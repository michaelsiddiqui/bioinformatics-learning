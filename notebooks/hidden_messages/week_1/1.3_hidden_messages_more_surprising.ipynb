{
 "cells": [
  {
   "cell_type": "markdown",
   "metadata": {},
   "source": [
    "# 1.3 Some Hidden Messages are More Surprising than Others\n",
    "\n",
    "See https://stepik.org/lesson/3/step/1?course=Stepic-Interactive-Text-for-Week-1&unit=8232 for context\n",
    "\n",
    "## Description of the problems\n",
    "\n",
    "There are two problem prompts in this session:\n",
    "\n",
    "1. reverse complement\n",
    "2. list the index locations of a sub-sequence in a genome\n",
    "\n",
    "For #1 above I choose here to implement a BioPython class, Bio.Seq -- in the end not really worth the trouble of reviewing all the subtle tics of how the specific Class data structure works."
   ]
  },
  {
   "cell_type": "code",
   "execution_count": 1,
   "metadata": {
    "collapsed": true
   },
   "outputs": [],
   "source": [
    "# reverse complement function. first solution -- cheat\n",
    "# use the biopython built in\n",
    "from Bio.Seq import Seq\n",
    "from Bio.Alphabet import IUPAC"
   ]
  },
  {
   "cell_type": "code",
   "execution_count": null,
   "metadata": {},
   "outputs": [],
   "source": [
    "help(Seq)"
   ]
  },
  {
   "cell_type": "code",
   "execution_count": 3,
   "metadata": {
    "collapsed": true
   },
   "outputs": [],
   "source": [
    "allowed = \"ATCG\"\n",
    "test_unallowed = \"QPOCJ\""
   ]
  },
  {
   "cell_type": "code",
   "execution_count": 4,
   "metadata": {
    "collapsed": true
   },
   "outputs": [],
   "source": [
    "allowed_test = Seq(allowed, alphabet=IUPAC.IUPACUnambiguousDNA())"
   ]
  },
  {
   "cell_type": "code",
   "execution_count": 5,
   "metadata": {
    "collapsed": true
   },
   "outputs": [],
   "source": [
    "unallowed_test_seq = Seq(test_unallowed, alphabet=IUPAC.IUPACUnambiguousDNA)"
   ]
  },
  {
   "cell_type": "code",
   "execution_count": 6,
   "metadata": {},
   "outputs": [
    {
     "data": {
      "text/plain": [
       "Seq('QPOCJ', <class 'Bio.Alphabet.IUPAC.IUPACUnambiguousDNA'>)"
      ]
     },
     "execution_count": 6,
     "metadata": {},
     "output_type": "execute_result"
    }
   ],
   "source": [
    "unallowed_test_seq"
   ]
  },
  {
   "cell_type": "code",
   "execution_count": 7,
   "metadata": {},
   "outputs": [
    {
     "ename": "AssertionError",
     "evalue": "Invalid alphabet found, <class 'Bio.Alphabet.IUPAC.IUPACUnambiguousDNA'>",
     "output_type": "error",
     "traceback": [
      "\u001b[0;31m---------------------------------------------------------------------------\u001b[0m",
      "\u001b[0;31mAssertionError\u001b[0m                            Traceback (most recent call last)",
      "\u001b[0;32m<ipython-input-7-7e211e28db77>\u001b[0m in \u001b[0;36m<module>\u001b[0;34m()\u001b[0m\n\u001b[0;32m----> 1\u001b[0;31m \u001b[0munallowed_test_seq\u001b[0m\u001b[0;34m.\u001b[0m\u001b[0mreverse_complement\u001b[0m\u001b[0;34m(\u001b[0m\u001b[0;34m)\u001b[0m\u001b[0;34m\u001b[0m\u001b[0m\n\u001b[0m",
      "\u001b[0;32m/home/grayson/venvs/grayson/local/lib/python2.7/site-packages/Bio/Seq.pyc\u001b[0m in \u001b[0;36mreverse_complement\u001b[0;34m(self)\u001b[0m\n\u001b[1;32m    808\u001b[0m         \"\"\"\n\u001b[1;32m    809\u001b[0m         \u001b[0;31m# Use -1 stride/step to reverse the complement\u001b[0m\u001b[0;34m\u001b[0m\u001b[0;34m\u001b[0m\u001b[0m\n\u001b[0;32m--> 810\u001b[0;31m         \u001b[0;32mreturn\u001b[0m \u001b[0mself\u001b[0m\u001b[0;34m.\u001b[0m\u001b[0mcomplement\u001b[0m\u001b[0;34m(\u001b[0m\u001b[0;34m)\u001b[0m\u001b[0;34m[\u001b[0m\u001b[0;34m:\u001b[0m\u001b[0;34m:\u001b[0m\u001b[0;34m-\u001b[0m\u001b[0;36m1\u001b[0m\u001b[0;34m]\u001b[0m\u001b[0;34m\u001b[0m\u001b[0m\n\u001b[0m\u001b[1;32m    811\u001b[0m \u001b[0;34m\u001b[0m\u001b[0m\n\u001b[1;32m    812\u001b[0m     \u001b[0;32mdef\u001b[0m \u001b[0mtranscribe\u001b[0m\u001b[0;34m(\u001b[0m\u001b[0mself\u001b[0m\u001b[0;34m)\u001b[0m\u001b[0;34m:\u001b[0m\u001b[0;34m\u001b[0m\u001b[0m\n",
      "\u001b[0;32m/home/grayson/venvs/grayson/local/lib/python2.7/site-packages/Bio/Seq.pyc\u001b[0m in \u001b[0;36mcomplement\u001b[0;34m(self)\u001b[0m\n\u001b[1;32m    756\u001b[0m         \u001b[0mValueError\u001b[0m\u001b[0;34m:\u001b[0m \u001b[0mProteins\u001b[0m \u001b[0mdo\u001b[0m \u001b[0;32mnot\u001b[0m \u001b[0mhave\u001b[0m \u001b[0mcomplements\u001b[0m\u001b[0;31m!\u001b[0m\u001b[0;34m\u001b[0m\u001b[0m\n\u001b[1;32m    757\u001b[0m         \"\"\"\n\u001b[0;32m--> 758\u001b[0;31m         \u001b[0mbase\u001b[0m \u001b[0;34m=\u001b[0m \u001b[0mAlphabet\u001b[0m\u001b[0;34m.\u001b[0m\u001b[0m_get_base_alphabet\u001b[0m\u001b[0;34m(\u001b[0m\u001b[0mself\u001b[0m\u001b[0;34m.\u001b[0m\u001b[0malphabet\u001b[0m\u001b[0;34m)\u001b[0m\u001b[0;34m\u001b[0m\u001b[0m\n\u001b[0m\u001b[1;32m    759\u001b[0m         \u001b[0;32mif\u001b[0m \u001b[0misinstance\u001b[0m\u001b[0;34m(\u001b[0m\u001b[0mbase\u001b[0m\u001b[0;34m,\u001b[0m \u001b[0mAlphabet\u001b[0m\u001b[0;34m.\u001b[0m\u001b[0mProteinAlphabet\u001b[0m\u001b[0;34m)\u001b[0m\u001b[0;34m:\u001b[0m\u001b[0;34m\u001b[0m\u001b[0m\n\u001b[1;32m    760\u001b[0m             \u001b[0;32mraise\u001b[0m \u001b[0mValueError\u001b[0m\u001b[0;34m(\u001b[0m\u001b[0;34m\"Proteins do not have complements!\"\u001b[0m\u001b[0;34m)\u001b[0m\u001b[0;34m\u001b[0m\u001b[0m\n",
      "\u001b[0;32m/home/grayson/venvs/grayson/local/lib/python2.7/site-packages/Bio/Alphabet/__init__.pyc\u001b[0m in \u001b[0;36m_get_base_alphabet\u001b[0;34m(alphabet)\u001b[0m\n\u001b[1;32m    241\u001b[0m         \u001b[0ma\u001b[0m \u001b[0;34m=\u001b[0m \u001b[0ma\u001b[0m\u001b[0;34m.\u001b[0m\u001b[0malphabet\u001b[0m\u001b[0;34m\u001b[0m\u001b[0m\n\u001b[1;32m    242\u001b[0m     \u001b[0;32massert\u001b[0m \u001b[0misinstance\u001b[0m\u001b[0;34m(\u001b[0m\u001b[0ma\u001b[0m\u001b[0;34m,\u001b[0m \u001b[0mAlphabet\u001b[0m\u001b[0;34m)\u001b[0m\u001b[0;34m,\u001b[0m\u001b[0;31m \u001b[0m\u001b[0;31m\\\u001b[0m\u001b[0;34m\u001b[0m\u001b[0m\n\u001b[0;32m--> 243\u001b[0;31m            \u001b[0;34m\"Invalid alphabet found, %s\"\u001b[0m \u001b[0;34m%\u001b[0m \u001b[0mrepr\u001b[0m\u001b[0;34m(\u001b[0m\u001b[0ma\u001b[0m\u001b[0;34m)\u001b[0m\u001b[0;34m\u001b[0m\u001b[0m\n\u001b[0m\u001b[1;32m    244\u001b[0m     \u001b[0;32mreturn\u001b[0m \u001b[0ma\u001b[0m\u001b[0;34m\u001b[0m\u001b[0m\n\u001b[1;32m    245\u001b[0m \u001b[0;34m\u001b[0m\u001b[0m\n",
      "\u001b[0;31mAssertionError\u001b[0m: Invalid alphabet found, <class 'Bio.Alphabet.IUPAC.IUPACUnambiguousDNA'>"
     ]
    }
   ],
   "source": [
    "unallowed_test_seq.reverse_complement()"
   ]
  },
  {
   "cell_type": "code",
   "execution_count": 8,
   "metadata": {},
   "outputs": [
    {
     "data": {
      "text/plain": [
       "Seq('CGAT', IUPACUnambiguousDNA())"
      ]
     },
     "execution_count": 8,
     "metadata": {},
     "output_type": "execute_result"
    }
   ],
   "source": [
    "allowed_test.reverse_complement()"
   ]
  },
  {
   "cell_type": "code",
   "execution_count": 16,
   "metadata": {},
   "outputs": [
    {
     "data": {
      "text/plain": [
       "Seq('ATCG', IUPACUnambiguousDNA())"
      ]
     },
     "execution_count": 16,
     "metadata": {},
     "output_type": "execute_result"
    }
   ],
   "source": [
    "allowed_test"
   ]
  },
  {
   "cell_type": "markdown",
   "metadata": {},
   "source": [
    "## The first exercise is to make a reverse complement generator\n",
    "\n",
    "Going to use the Seq object methods already available in BioPython"
   ]
  },
  {
   "cell_type": "code",
   "execution_count": 9,
   "metadata": {
    "collapsed": true
   },
   "outputs": [],
   "source": [
    "def reverse_complement_w_biop(input_string):\n",
    "    \"\"\"Convert IUPAC unambiguous DNA string input to reverse complement\n",
    "    \"\"\"\n",
    "    alphabet = set(IUPAC.unambiguous_dna.letters)\n",
    "    input_upper = input_string.upper()\n",
    "    if not set(input_upper).issubset(alphabet):\n",
    "        raise ValueError(\"input text must be IUPAC unambiguous DNA sequence\")\n",
    "    seq_obj = Seq(input_string, alphabet=IUPAC.IUPACUnambiguousDNA)\n",
    "    ouput_seq = str(seq_obj.reverse_complement())\n",
    "    return output_seq"
   ]
  },
  {
   "cell_type": "code",
   "execution_count": 10,
   "metadata": {},
   "outputs": [
    {
     "ename": "AssertionError",
     "evalue": "Invalid alphabet found, <class 'Bio.Alphabet.IUPAC.IUPACUnambiguousDNA'>",
     "output_type": "error",
     "traceback": [
      "\u001b[0;31m---------------------------------------------------------------------------\u001b[0m",
      "\u001b[0;31mAssertionError\u001b[0m                            Traceback (most recent call last)",
      "\u001b[0;32m<ipython-input-10-1d2b2f65fb12>\u001b[0m in \u001b[0;36m<module>\u001b[0;34m()\u001b[0m\n\u001b[0;32m----> 1\u001b[0;31m \u001b[0mreverse_complement_w_biop\u001b[0m\u001b[0;34m(\u001b[0m\u001b[0;34m'ATCG'\u001b[0m\u001b[0;34m)\u001b[0m\u001b[0;34m\u001b[0m\u001b[0m\n\u001b[0m",
      "\u001b[0;32m<ipython-input-9-fbc2ed5cc696>\u001b[0m in \u001b[0;36mreverse_complement_w_biop\u001b[0;34m(input_string)\u001b[0m\n\u001b[1;32m      7\u001b[0m         \u001b[0;32mraise\u001b[0m \u001b[0mValueError\u001b[0m\u001b[0;34m(\u001b[0m\u001b[0;34m\"input text must be IUPAC unambiguous DNA sequence\"\u001b[0m\u001b[0;34m)\u001b[0m\u001b[0;34m\u001b[0m\u001b[0m\n\u001b[1;32m      8\u001b[0m     \u001b[0mseq_obj\u001b[0m \u001b[0;34m=\u001b[0m \u001b[0mSeq\u001b[0m\u001b[0;34m(\u001b[0m\u001b[0minput_string\u001b[0m\u001b[0;34m,\u001b[0m \u001b[0malphabet\u001b[0m\u001b[0;34m=\u001b[0m\u001b[0mIUPAC\u001b[0m\u001b[0;34m.\u001b[0m\u001b[0mIUPACUnambiguousDNA\u001b[0m\u001b[0;34m)\u001b[0m\u001b[0;34m\u001b[0m\u001b[0m\n\u001b[0;32m----> 9\u001b[0;31m     \u001b[0mouput_seq\u001b[0m \u001b[0;34m=\u001b[0m \u001b[0mstr\u001b[0m\u001b[0;34m(\u001b[0m\u001b[0mseq_obj\u001b[0m\u001b[0;34m.\u001b[0m\u001b[0mreverse_complement\u001b[0m\u001b[0;34m(\u001b[0m\u001b[0;34m)\u001b[0m\u001b[0;34m)\u001b[0m\u001b[0;34m\u001b[0m\u001b[0m\n\u001b[0m\u001b[1;32m     10\u001b[0m     \u001b[0;32mreturn\u001b[0m \u001b[0moutput_seq\u001b[0m\u001b[0;34m\u001b[0m\u001b[0m\n",
      "\u001b[0;32m/home/grayson/venvs/grayson/local/lib/python2.7/site-packages/Bio/Seq.pyc\u001b[0m in \u001b[0;36mreverse_complement\u001b[0;34m(self)\u001b[0m\n\u001b[1;32m    808\u001b[0m         \"\"\"\n\u001b[1;32m    809\u001b[0m         \u001b[0;31m# Use -1 stride/step to reverse the complement\u001b[0m\u001b[0;34m\u001b[0m\u001b[0;34m\u001b[0m\u001b[0m\n\u001b[0;32m--> 810\u001b[0;31m         \u001b[0;32mreturn\u001b[0m \u001b[0mself\u001b[0m\u001b[0;34m.\u001b[0m\u001b[0mcomplement\u001b[0m\u001b[0;34m(\u001b[0m\u001b[0;34m)\u001b[0m\u001b[0;34m[\u001b[0m\u001b[0;34m:\u001b[0m\u001b[0;34m:\u001b[0m\u001b[0;34m-\u001b[0m\u001b[0;36m1\u001b[0m\u001b[0;34m]\u001b[0m\u001b[0;34m\u001b[0m\u001b[0m\n\u001b[0m\u001b[1;32m    811\u001b[0m \u001b[0;34m\u001b[0m\u001b[0m\n\u001b[1;32m    812\u001b[0m     \u001b[0;32mdef\u001b[0m \u001b[0mtranscribe\u001b[0m\u001b[0;34m(\u001b[0m\u001b[0mself\u001b[0m\u001b[0;34m)\u001b[0m\u001b[0;34m:\u001b[0m\u001b[0;34m\u001b[0m\u001b[0m\n",
      "\u001b[0;32m/home/grayson/venvs/grayson/local/lib/python2.7/site-packages/Bio/Seq.pyc\u001b[0m in \u001b[0;36mcomplement\u001b[0;34m(self)\u001b[0m\n\u001b[1;32m    756\u001b[0m         \u001b[0mValueError\u001b[0m\u001b[0;34m:\u001b[0m \u001b[0mProteins\u001b[0m \u001b[0mdo\u001b[0m \u001b[0;32mnot\u001b[0m \u001b[0mhave\u001b[0m \u001b[0mcomplements\u001b[0m\u001b[0;31m!\u001b[0m\u001b[0;34m\u001b[0m\u001b[0m\n\u001b[1;32m    757\u001b[0m         \"\"\"\n\u001b[0;32m--> 758\u001b[0;31m         \u001b[0mbase\u001b[0m \u001b[0;34m=\u001b[0m \u001b[0mAlphabet\u001b[0m\u001b[0;34m.\u001b[0m\u001b[0m_get_base_alphabet\u001b[0m\u001b[0;34m(\u001b[0m\u001b[0mself\u001b[0m\u001b[0;34m.\u001b[0m\u001b[0malphabet\u001b[0m\u001b[0;34m)\u001b[0m\u001b[0;34m\u001b[0m\u001b[0m\n\u001b[0m\u001b[1;32m    759\u001b[0m         \u001b[0;32mif\u001b[0m \u001b[0misinstance\u001b[0m\u001b[0;34m(\u001b[0m\u001b[0mbase\u001b[0m\u001b[0;34m,\u001b[0m \u001b[0mAlphabet\u001b[0m\u001b[0;34m.\u001b[0m\u001b[0mProteinAlphabet\u001b[0m\u001b[0;34m)\u001b[0m\u001b[0;34m:\u001b[0m\u001b[0;34m\u001b[0m\u001b[0m\n\u001b[1;32m    760\u001b[0m             \u001b[0;32mraise\u001b[0m \u001b[0mValueError\u001b[0m\u001b[0;34m(\u001b[0m\u001b[0;34m\"Proteins do not have complements!\"\u001b[0m\u001b[0;34m)\u001b[0m\u001b[0;34m\u001b[0m\u001b[0m\n",
      "\u001b[0;32m/home/grayson/venvs/grayson/local/lib/python2.7/site-packages/Bio/Alphabet/__init__.pyc\u001b[0m in \u001b[0;36m_get_base_alphabet\u001b[0;34m(alphabet)\u001b[0m\n\u001b[1;32m    241\u001b[0m         \u001b[0ma\u001b[0m \u001b[0;34m=\u001b[0m \u001b[0ma\u001b[0m\u001b[0;34m.\u001b[0m\u001b[0malphabet\u001b[0m\u001b[0;34m\u001b[0m\u001b[0m\n\u001b[1;32m    242\u001b[0m     \u001b[0;32massert\u001b[0m \u001b[0misinstance\u001b[0m\u001b[0;34m(\u001b[0m\u001b[0ma\u001b[0m\u001b[0;34m,\u001b[0m \u001b[0mAlphabet\u001b[0m\u001b[0;34m)\u001b[0m\u001b[0;34m,\u001b[0m\u001b[0;31m \u001b[0m\u001b[0;31m\\\u001b[0m\u001b[0;34m\u001b[0m\u001b[0m\n\u001b[0;32m--> 243\u001b[0;31m            \u001b[0;34m\"Invalid alphabet found, %s\"\u001b[0m \u001b[0;34m%\u001b[0m \u001b[0mrepr\u001b[0m\u001b[0;34m(\u001b[0m\u001b[0ma\u001b[0m\u001b[0;34m)\u001b[0m\u001b[0;34m\u001b[0m\u001b[0m\n\u001b[0m\u001b[1;32m    244\u001b[0m     \u001b[0;32mreturn\u001b[0m \u001b[0ma\u001b[0m\u001b[0;34m\u001b[0m\u001b[0m\n\u001b[1;32m    245\u001b[0m \u001b[0;34m\u001b[0m\u001b[0m\n",
      "\u001b[0;31mAssertionError\u001b[0m: Invalid alphabet found, <class 'Bio.Alphabet.IUPAC.IUPACUnambiguousDNA'>"
     ]
    }
   ],
   "source": [
    "reverse_complement_w_biop('ATCG')"
   ]
  },
  {
   "cell_type": "code",
   "execution_count": 11,
   "metadata": {
    "collapsed": true
   },
   "outputs": [],
   "source": [
    "def reverse_complement_w_biop(input_string):\n",
    "    \"\"\"Convert IUPAC unambiguous DNA string input to reverse complement\n",
    "    \"\"\"\n",
    "    alphabet = set(IUPAC.unambiguous_dna.letters)\n",
    "    input_upper = input_string.upper()\n",
    "    if not set(input_upper).issubset(alphabet):\n",
    "        raise ValueError(\"input text must be IUPAC unambiguous DNA sequence\")\n",
    "    seq_obj = Seq(input_string, alphabet=IUPAC.IUPACUnambiguousDNA())\n",
    "    ouput_seq = str(seq_obj.reverse_complement())\n",
    "    return output_seq"
   ]
  },
  {
   "cell_type": "code",
   "execution_count": 12,
   "metadata": {},
   "outputs": [
    {
     "ename": "NameError",
     "evalue": "global name 'output_seq' is not defined",
     "output_type": "error",
     "traceback": [
      "\u001b[0;31m---------------------------------------------------------------------------\u001b[0m",
      "\u001b[0;31mNameError\u001b[0m                                 Traceback (most recent call last)",
      "\u001b[0;32m<ipython-input-12-1d2b2f65fb12>\u001b[0m in \u001b[0;36m<module>\u001b[0;34m()\u001b[0m\n\u001b[0;32m----> 1\u001b[0;31m \u001b[0mreverse_complement_w_biop\u001b[0m\u001b[0;34m(\u001b[0m\u001b[0;34m'ATCG'\u001b[0m\u001b[0;34m)\u001b[0m\u001b[0;34m\u001b[0m\u001b[0m\n\u001b[0m",
      "\u001b[0;32m<ipython-input-11-46a5013f0d26>\u001b[0m in \u001b[0;36mreverse_complement_w_biop\u001b[0;34m(input_string)\u001b[0m\n\u001b[1;32m      8\u001b[0m     \u001b[0mseq_obj\u001b[0m \u001b[0;34m=\u001b[0m \u001b[0mSeq\u001b[0m\u001b[0;34m(\u001b[0m\u001b[0minput_string\u001b[0m\u001b[0;34m,\u001b[0m \u001b[0malphabet\u001b[0m\u001b[0;34m=\u001b[0m\u001b[0mIUPAC\u001b[0m\u001b[0;34m.\u001b[0m\u001b[0mIUPACUnambiguousDNA\u001b[0m\u001b[0;34m(\u001b[0m\u001b[0;34m)\u001b[0m\u001b[0;34m)\u001b[0m\u001b[0;34m\u001b[0m\u001b[0m\n\u001b[1;32m      9\u001b[0m     \u001b[0mouput_seq\u001b[0m \u001b[0;34m=\u001b[0m \u001b[0mstr\u001b[0m\u001b[0;34m(\u001b[0m\u001b[0mseq_obj\u001b[0m\u001b[0;34m.\u001b[0m\u001b[0mreverse_complement\u001b[0m\u001b[0;34m(\u001b[0m\u001b[0;34m)\u001b[0m\u001b[0;34m)\u001b[0m\u001b[0;34m\u001b[0m\u001b[0m\n\u001b[0;32m---> 10\u001b[0;31m     \u001b[0;32mreturn\u001b[0m \u001b[0moutput_seq\u001b[0m\u001b[0;34m\u001b[0m\u001b[0m\n\u001b[0m",
      "\u001b[0;31mNameError\u001b[0m: global name 'output_seq' is not defined"
     ]
    }
   ],
   "source": [
    "reverse_complement_w_biop('ATCG')"
   ]
  },
  {
   "cell_type": "code",
   "execution_count": 13,
   "metadata": {
    "collapsed": true
   },
   "outputs": [],
   "source": [
    "def reverse_complement_w_biop(input_string):\n",
    "    \"\"\"Convert IUPAC unambiguous DNA string input to reverse complement\n",
    "    \"\"\"\n",
    "    alphabet = set(IUPAC.unambiguous_dna.letters)\n",
    "    input_upper = input_string.upper()\n",
    "    if not set(input_upper).issubset(alphabet):\n",
    "        raise ValueError(\"input text must be IUPAC unambiguous DNA sequence\")\n",
    "    seq_obj = Seq(input_string, alphabet=IUPAC.IUPACUnambiguousDNA())\n",
    "    seq_obj.reverse_complement()\n",
    "    return str(seq_obj)"
   ]
  },
  {
   "cell_type": "code",
   "execution_count": 14,
   "metadata": {},
   "outputs": [
    {
     "data": {
      "text/plain": [
       "'ATCG'"
      ]
     },
     "execution_count": 14,
     "metadata": {},
     "output_type": "execute_result"
    }
   ],
   "source": [
    "reverse_complement_w_biop('ATCG')"
   ]
  },
  {
   "cell_type": "code",
   "execution_count": null,
   "metadata": {
    "collapsed": true
   },
   "outputs": [],
   "source": [
    "def reverse_complement_w_biop(input_string):\n",
    "    \"\"\"Convert IUPAC unambiguous DNA string input to reverse complement\n",
    "    \"\"\"\n",
    "    alphabet = set(IUPAC.unambiguous_dna.letters)\n",
    "    input_upper = input_string.upper()\n",
    "    if not set(input_upper).issubset(alphabet):\n",
    "        raise ValueError(\"input text must be IUPAC unambiguous DNA sequence\")\n",
    "    seq_obj = Seq(input_string, alphabet=IUPAC.IUPACUnambiguousDNA())\n",
    "    new_obj = seq_obj.reverse_complement()\n",
    "    return str(new_obj)"
   ]
  },
  {
   "cell_type": "code",
   "execution_count": 15,
   "metadata": {},
   "outputs": [
    {
     "data": {
      "text/plain": [
       "'ATCG'"
      ]
     },
     "execution_count": 15,
     "metadata": {},
     "output_type": "execute_result"
    }
   ],
   "source": [
    "reverse_complement_w_biop('ATCG')"
   ]
  },
  {
   "cell_type": "code",
   "execution_count": 2,
   "metadata": {
    "collapsed": true
   },
   "outputs": [],
   "source": [
    "def reverse_complement_w_biop(input_string):\n",
    "    \"\"\"Convert IUPAC unambiguous DNA string input to reverse complement\n",
    "    \"\"\"\n",
    "    alphabet = set(IUPAC.unambiguous_dna.letters)\n",
    "    input_upper = input_string.upper()\n",
    "    if not set(input_upper).issubset(alphabet):\n",
    "        raise ValueError(\"input text must be IUPAC unambiguous DNA sequence\")\n",
    "    seq_obj = Seq(input_string, alphabet=IUPAC.IUPACUnambiguousDNA())\n",
    "    \n",
    "    return str(seq_obj.reverse_complement())"
   ]
  },
  {
   "cell_type": "code",
   "execution_count": 3,
   "metadata": {},
   "outputs": [
    {
     "data": {
      "text/plain": [
       "'AGCTAGC'"
      ]
     },
     "execution_count": 3,
     "metadata": {},
     "output_type": "execute_result"
    }
   ],
   "source": [
    "reverse_complement_w_biop('GCTAGCT')"
   ]
  },
  {
   "cell_type": "code",
   "execution_count": 19,
   "metadata": {},
   "outputs": [
    {
     "data": {
      "text/plain": [
       "'CGAT'"
      ]
     },
     "execution_count": 19,
     "metadata": {},
     "output_type": "execute_result"
    }
   ],
   "source": [
    "reverse_complement_w_biop('ATCG')"
   ]
  },
  {
   "cell_type": "code",
   "execution_count": 21,
   "metadata": {
    "collapsed": true
   },
   "outputs": [],
   "source": [
    "with open('dataset_3_2.txt', 'r') as f:\n",
    "    input_test_one = f.read()"
   ]
  },
  {
   "cell_type": "code",
   "execution_count": 22,
   "metadata": {
    "collapsed": true
   },
   "outputs": [],
   "source": [
    "input_args_list = input_test_one.splitlines()"
   ]
  },
  {
   "cell_type": "code",
   "execution_count": 23,
   "metadata": {},
   "outputs": [
    {
     "data": {
      "text/plain": [
       "1"
      ]
     },
     "execution_count": 23,
     "metadata": {},
     "output_type": "execute_result"
    }
   ],
   "source": [
    "len(input_args_list)"
   ]
  },
  {
   "cell_type": "code",
   "execution_count": 24,
   "metadata": {},
   "outputs": [
    {
     "data": {
      "text/plain": [
       "str"
      ]
     },
     "execution_count": 24,
     "metadata": {},
     "output_type": "execute_result"
    }
   ],
   "source": [
    "type(input_args_list[0])"
   ]
  },
  {
   "cell_type": "code",
   "execution_count": 26,
   "metadata": {},
   "outputs": [
    {
     "data": {
      "text/plain": [
       "9446"
      ]
     },
     "execution_count": 26,
     "metadata": {},
     "output_type": "execute_result"
    }
   ],
   "source": [
    "len(input_args_list[0])"
   ]
  },
  {
   "cell_type": "code",
   "execution_count": 27,
   "metadata": {},
   "outputs": [
    {
     "data": {
      "text/plain": [
       "'CAATCCTCTAAAAAGCGACGAGTCTACTGTATTTTGAGTACCGAGACGCAAGAGTCATGCACGAAATCGCTTATATGCGCGTGCGATTGAGGCGTGCCGACATAGCGTTCGTCTTGTTGTACAGGAAATGGGGGCGTAGTAGTATGAACCTGTTAGGATGCCGCAGCCGTTCGACCATATACAGATACTAAGCGAACGCTCATGTGGATGATACACTCAGTAATGCAACAGGCTTACATTCGATGCCATGTAACCCTTTTCGCTCTGGCCAATTCCGGGCCCCCGCGAGAAGAACCTTCCGTATGATAGCCACGTCTGTGTGAAGCTCCCCGGAACAGTGTACCCCACGTCTAAAACTGAGTTCCTCTCAGGCGGAAGGGTACTATCAATCACGCTATGGTTGTCGCGTAACATATACTACCGTGACTGTAGATGGATTGCTACATACACGATTATTTGTCTTGCGTCCGAGCCAGCGTCTATCTGGGAACTACATCCGGTAAGGAAAGACTGTGGGGTTGACAAACGTGATAAATAAGTCGGCAGAAGGAACCTAAGGTGGTACGAGCGCTTTCCCCCGGGTCCTGGATTTGAGTCAGCGACTTGTCCTCTCTTATAGAGACATGCTTTAGGCCATATAGAAAAGAAGAACCAGATTTACCTGGCATTTAGCTGCACAGCAATGTTTAAAATTTGGATTAATGCGAATACCCGACAACTGCCATCTAGTCCGCTGTGTTGGTCTGTGCCCAATTGGTCCTTAACGTTATGCGACTTCCAGGTTCATGGGATCGGGTGGACGATCTATACGATGATTGGTCGGACACCGACTAATTTGTAGTAGAAAGTGCGCATTCCTAGGTCTTAGGGGACTGGCCCGATACGGGGCTAATTTTCTTGAGGTGAGCTAATGACGACGCACCCATGCGCTGCATTTCACTGAGTGGTTAATGGAGGGCTGCAAATGAGGTCGCGGTACTTGCAGCAGAGAATATAGTCGTATAATGCAGCAAAATGCCCGACAGGAGCGAGTCTTTAGGGGTCTAAACCCCCCGTACAAAAGATGTGAGCCGGCTAATGAGCACAGGACCGTCTGGCATCAGCTGCCACTAACTCGTAGAACATCCTGGTGACCTCACAACAATTATCTTAAGTCAACTATTCAGACCCGAATGGACCAAGTTCTAATGTCACTCTCCGATACAACTAATGTGATGGTAAAAGCCGTAGAATCGCTCGCTTGCGTGACCTCCGTCCTTATGGGGTATGGTGCCGTTGATCGTTCGAAAACGTGGGGTATTCGAAAAGGTCTGAACGAGACCAAGCGTGGATGGGACGATAAAAAATGCCTGCTCGTTTAACGAATCCGGAGAGGTATTGTGAAAGACCCAGCAGTCCCTGACCCGGGATCGCATCCTTACGTAATACTAGCGGTATAGTTCCGCGGTACTTTTTTTCACCTTTAGCTAACACACGCCTGGGCTCGATCGCCTTACAGTGAGTATCAATCGGCATAGAAATTGTTGTACAATTATCGGGACGCAGCCATTGCCCCCTAGCGATAGATTATATCCTAGGGGACAACTAGGACCTACCCTTATCACCTTACTTTTGGATACCTAAGCTGTAATCTGCTGGTTGTCCTCGGGTGGACCGATTAGACCTCTCTGGGGAGGGGGAGATGATACGCGGTAGCACTGATAGCCCGCCGACTTAACGATCAGTTTAGAGAGAATTACACTTTCTAAGGCAGCGCATGCACTGCTGCTATATATAGTCAATGCGCCTCCCTTCGAGCACCACCTGGCCCAGTCACCTTACTTCCAATGGCCCTCTAAGGAGTGGACTTACTCTCTATCACAGGCTTTTTAATGTTCGTCTCGAGTGGCGGCCTCAAGGCGATTCCTCGGTATCCTGTAGACATAGTCCCCCGTTGGCGGTCGCCGGCGGGGCCCAAGTCGGCTACGGAAGAAGTCATTAGTCAAACCGACGCCACCCATCCAAGGGTGATTCCGCATGACCGCTTGATCTCGCGTAATATGTCAATCGCTGCATCCCGCTGTGAGCTTTAGAACAACTTCTCAGTTATAGTTAGAAGACATCTAGACGCGATACTTACAGGAGAGTCTAGAGGGCTACCGTGGGGTGTGGAGACTTATGGCGCGCCCAAGACGTGCACGCATTAGTATACAGTGACTAAAAGCCTTCTCCTGGGGTAGTTAGCCGCATCCCATGACGTACTTCGTTGCTGACCACCAAGCTTGGAGATGTTGACGCGACCAGAAACCTTCATATCTCATAGGCCGCATAGCCCCTACAGCGGCCATCAAGCGCGGCGGGTTGCTTCCATCACGCACATGGTACAAACGCCTCTAGTCAGTCGAGACATCAGTGCTAAGTATCCCCATGATCCAAGGTCCAACGCACATGTTCTTACCCGAATGCCGGATTTTTCTCTTATTGTAGGGCCTACGAGCGAATAGCTACAAAAACTGGGCTAGCCCCCGCACCCCAAGGGTTCTAGGGACCTCGCACTTTAACCTCTGCGGCGAGGTCCCCGACCTTGTATAAGGGTCACGGATATGAATACGACTGTCCTGCGAACCCATGTCGCTACGGCGCTCCCATATGGCCAACTTTCAATTAAGTAGGCTCCTGTGTAGACTCAGCCCAGTTGACCTCCTTAAGCCAGACTGAAGGCTCAGCGACACGTCTTACTTTATGGCGAATAAAAGGCGATACGTACTAGCAGGCCGAAAATTTAATGCTCAATAGCCTGGAGCATTTCGTAATAGTTCACATTGATCCGATGCAGATGCTCTTAAACGGATTAACTACTGAGCTCAATTTGGCGTAACTAGGTGAGTGCGAGTAGGTCACTTCGTGGCTGCGTTGCTGCCTTTACCCCAAGTAATAGGCACGGTCTGCGCGCAACTACGCATGGCTATGGCCTTATATGTGGAGCATCTTATTGTCATTGGCGATCCGTCATTCTGTAGTTGCCAGCCTACAGGTCACGCAGAGCGATCCTACAGAGCCGTTATGACAGTGGTATGGGTAAATCATCGCTTCCGTACCGTGAATTCTGAACATGAGGTTATTCTAGACGAACATTACTGTACAGGTTGACTTATACATCCTGATAGTAAAGGGGTTCATTACCCCACGTTTGATACAACTGCTCTTATGCGGCACTGGGTACAGCCAGAACTACCAGTCTTAACACTTTTGCTTTGTGCGTATGGTGTTACCTCAGTACTCACGCTCTCCTTAGTGGTTCCCCGACGGGAGTTCAGTTAAACACCCTGATTACAATCGGCCAAGTGTGTTGTCACCGCGACGCATATCCGGATTGCGGGACGCCGAGCAGGGTGACCTGGTAGAGTAAGTGCCATCAAAGCGGCTCATTACCAGATACTGCGACTTACCTAGTCAGAACATCGACAGCTCTAAACGAGGTACTTTGTCTAGTCAACGGTAGCTAGGACCGGTGTCCAAATTAGAAATGTTATTGTCCCCGTGCCCCGTTACCTTATCTGCGTTACACTATTGGGGTCGCAATTACTATCATTCAGTTCCTAAGAGCTTGACCCACGGAGGATGGGATACCTCCGCGACCCATACATAACGTACGGGGGGCTCCATCTTACTCAAATATGGGCTATGACAGGCGAGTTTTTCTGGCACTTGCGTATGGCCAAAATCCGGAAAGAAGGAATAAGGTTATGAAGGTCCACAAACTTCACGCCGGCTTATTGCAAGATTCGATGTACTCTCCGATATTGATCTCCCGTGAACGCTTGACCCCTTGTCCGTCTATTGTATTGCGAGAAATTGCAAACACGATTGACCACGGGCTATTGTTCCTGGTGATCACCAATGTGGTGGTCTGTGCACACATTGACCGCTTTGTTCCATCTGCAGCTCTACCCATTTTCTGCTGGTCCCCGTGAGCGATGTGTCCTGGCATCGACCCAGCCACAAGCCTGCTTGGAACTGCTGCAGATAGTTAATTAGCCCACGTCGGCATGCTTTACCGGGTTTAGCCAGACATTCCAAGTAATAAGCACTCACTCCTGTGAAATACAGTTTGTACTAATGCTCTATTAGAAATCAGTGGTTGCGTCCTACGCAAACCCCGCTGAGCAGGTCGCGTCACTTGATAGAACTGTACGAATTCGGTGTCCTACCCACGTCGTATACGGCTTGCTACTGTAGACTCCCTTTGTTGCCCCGATACACCCGCACTACTCTCGTAGGGTTTAATCGGATTTAACGTTTGGTCATGGGGCGTGCTGGGTGACGGACCTAATACTGACGAGCAACTCGAAGTTGTTGATATTTCGATTTGGACCAGGCGCGTACAACGCACGTAGAAGCCGATAGGGGGGGTCCCATACTGCGAATTGTCTAGTAGCAGAGAACAGCGATATGTCTCTTGGCAGTCCCCTTGCCTCATCTGACAGGGAATACCAGTTATGCATCTTCCACTGGCACGTCATCAACACCGGTGCTGTTGCAGGCTAACCAGCCGACCGGGTCTAAAGGCTAAATTGACACTAGTCTTCTCGCTACAAAATGGGTGGGTACCCGTCTCATGCTCGAACTGTCATCGCATAGGTGCAACATCCGTTACATCAATAAGTAACCTGTGCCGGTCGCGTTCAAGTACAACAGGACCCGCGCGGGCAGCCTCCGACGGGTTATCATTAATGTTGTAGGATAGGGATCTTCACTGATAGCACGGAAGCCGCATCAATAAAGCACGAAGTGATTAGCGCTCGAGCGATGGAAAACTTGGGCAGATGATCCCACATCCACTGAGCCCTCGTAGAAGCGGGGCCGGGCGTGCTTCGACGTCTGCTGTTTAGCGTACCGCGAATGTCGGCTGCGCGAGTTCCACTCAGGAGGTTGCCCCCCGACAATCAGATATTTGCTTGAAATTGTGTACGGGCAAGGGTTGCGTGTGGGCAGTCGGCTGTTGGCAGCTTTACAATTTTCAGAAATGGCCTGGATAGTATGGAAGCGCCTCTAGCACCTCCCGGAAATCAGTAACGTTCCAGCGGGTTCTTCTATTCGCTCACTGGACGGTTTGGCGGCGGCCATTCATCGGCTGGGGGCTCGTACACAGACGTCGGAGGACTAGCCGATCAGCATCGGGTCAAAATGGTCCCCTATGCGCAAGTGGTCGTGTCCAAATAAGTACATGCCCTACTCGCAATGTCGCAGCTGAGTTTCTCCGACAGGAAACGATGAGCTTAACTAAAACCGACGCTAATAGGCTGTTGAAACAGGCTACGAAACGGTCACGTCGGACGGTATCGAAGATCGCGAGTCTTTTTACAAGCCGTGTGATCTGTGAAGGGGTAGTTGGAGTCTAGTCCGTGCCCCCGGGGGGCCCAAGACGTTGGGGATTCTTAAGAAAAATTTTAACAAGGTATGATGAGTAAGTCGTCCAGCGGACAAAACCGCGGGTCGGCCTGCGTCTCTACGTCAGTGGCGGCGTTGTAATATCAAAGGTTACACCAAACCGTATGCACACATCGAGAGTGCATTTATGGCCGAGTCAAGCTGCACTTCAGTCAACTGGGCGACAGTAGCAGTGTACCAAGTAGGGGTCGCTGAGCCAGAACAAGGCCCTAATCTAGCGAGGTTTGTGGAATCGCTATCCGTATATTGGTGATCCGTAGGGATGCGAGGCTCCCATGAGATCTTTTCTTAGTAACAACTTTGAAACGAGACGTGGACTTACGATGCAGGCATCCGTGGTAAGCTTCATAACTCAAACGACTGGTGTGTATGGACATTACACTAAGAAAGCTGGCTTGCTCAATCAAATATGTCTTTGGTATAGTGTCCTCGCAATCCTCACACCTTCGGTGGTCAGCAGTGGTACATGCGCGGTACCCTGGAGATCAGGCCGGGTCCCTTAATAGTTGATATTCTGTAGACAGCCATTGGGTGAGTACTCAGCGATAGTGCTAAGATGAAACTTAACTGGGCCCCTTTAGAAGTTCGCTGTAATAGTCGTCGTTTCATGCCGATGCCTAGGCCTACGGGGCCGGGGCAGGAATTATGGGATCTTTATCACTGCCCACATTACTGGACAGACTAACTACATGGCCAACCTACATGCGACCTGCAATGTTGCCCGCTAATATGTATTATACGGGAGAAGGAGAAAACGATTCCTTGGCCCTATGAGCGAGTTCTTGGCCATGCGTCATCAACTAATTGATGAGCTTCAGTGCCACCCATCCTCATCGTAGATTGCTCAATAATACACCCATGTAGCTGCGGGGGCCAACTCAGGGCCGTTCAGAGGAAGCATTCACAATAGGGGTCAGCATAGTAACATTAACTTAATTTACTACGTATATATGCAGCTTCTCCGGGCCTATAACATCCGATCACACTAACCTATATTTGTAAGATGCCAAACTATTTGACTGGGGGTCTAGAAATAATGCCTTAAATTCCCAATTACTGCATAATCGCGCTTATAGACGACGGAGGCTTACACAGTTCGGAGGAGAAAACCCCTGCAATTCTTTTAACCGCGACCAGAATCATGGGCAACGGACCGTGCGCCATTAGTCTGGGTACACGCGGGTGAGGACCACACTGTAGATACTGGCTGGACGTGTCGGACCGCCACGAATGTGTTATATCATTCGCCGATTTGTTCTTAAGAGGATCCCGTGCCCTTACCGACTGTGGCACTGAGGTCTGAACCCGATGCGGACATACTTCGTTTTTGGCGCGCACGGAGCTTTGCACCACTTGGTGTGATCTAAGTCGTCTAGTGTATAGCCGTTGTTAGCGCGACCTTGGGCTGGGAGAGCGATCTACATAAAAGAAGAGCCCTTCAATAAATGAAGTATACCAGGAAAGTGTGCCGGTGGTCCTCGTACTGTCCAACCGGCATAGGGACCATGCAAGCGCGGCACGGGTTAGGCGTGCGCGAGCGCTACTGCGCCTCGAGTATTGCGATAAAGTCTATCATGCGATGACGTCGCATAAGTGCCTATTATGTTTCCATTGAATCTAGCAACTATGGATGGGTTCCTATTACCCACCAAAGCCAGTCTCTACTAGGAGATTGTTCGAACAAAGATGGAGTACTTTAAGGTAATGGGCGAATTCTCCGAATCTTTAGCACAAAGCCGAAAGGTCTAACACAGCTTTTGCTGCTATAGGTTTGCTATCTCATTCGTGTGATTCACCAATCGCTGTCTCACCGAGATCCTTGACCGGGTTAGACATTGAGCATGTGCGTATGCTTCCTATCAGAGCCAAGGGCGGGGGGTACCATTAGGCCCCGTTCGCTTCCAAAAGTTGCGACCAGTGGTATAACGTTGCGCCTGACGCTTAAATGATGTTAACTTTCTAAAATCTCGTAACTTCTCTAAATTTAGATCTTCTCAATATGCGTAATGTGCACGTGGTCGTTTCCCAATACTTGTTCTCTTTGACCCTCGCCGCATATCGCAAGGAGAGCCTCGGGAAACAAAAGGAGGCACCGTCTCGGAATCGCAGTTTTGACTTTTCTCGCTCGTAGACTGGTACGGCTTATTCTATCCGGTAGATTGTGTTCAGAGGATTAGCGAAATCTATGCTACAGATAAATCATTAGAGCTGACTCGACGCGCCAATTAATCTCTTCCTGGCCCTAGCCCAGATTGACCGTAGTATACGAGGAGGTATAGTCCGTTCAGTCAAGTGCTCCTTATTATTGAACCCGGACAGTGCCAGCCGCGACAAAGCTAGAAATCCTGAGGCCTACTCGAGGTCTGGCTGCATCAATCGCATCGACCAAAATAGCATCTATGAGATGGTTGAGTAAGGATTGTAAACAGCTAATCTCCGGTGGGCCCGCGTAGGACATAGTTATTAATCACCCACGCCAACCGCCAGGGGTGTGGAAGCCCTACAAACCCCTGTAGGCGGCAGGTAAGGACTCCTGCTAAATACCCCGGATTCTCAACACCTGCGGCCATGGCAGCCGTGGAGGACTCTTGAGGCACTGGTAAGGGGGTAGTCAGCGTTTCCCTAACACCGGAAAGCTTGCGGACTGGCAGCAGTAATACTAGCCCTCTTCGCCGTAACTCGTTATGTTTCCCCGTCGTGTAAGGCGAAATTTTAGGTGTAAATGTACGAGTACCTAATGTCGTAGCACCGCCACTTCGTGACTGCCCACCGCTTAGCAGAGGCGTATGTGCAGTTATGGGACAATACCGCTCACATTACGGTCTGAAGGTCTGTTTGCGATGGTCCAATTTTCCGTTCGAAGATTAGCCTGGGGTAAGCTAACTCCATTCCATTGGAGAAACTCGGAGGGATCTTAGGTACCCAAATAATTGAATAACGCGCCATTGGGACCGGACGCCCATGCTGCTTACTGGATCCTGCTCGCAAGCCTTTCCTGGGTCAACGACGTTAGAGCAGTCTTGTACGATACGTTGGGCGGTCACGACTGGCGAAGGCTTCGGTATCACACGACACACGTTATTACATAGGTCAGCCTAGAAGGTAGACTGTAGCCATTGACATATCAGAAGCGTTGAGCCTGAAATTCGCATTAATACTGGTGGTCGTGTACGAACACCGCGCCCCGGCTACGCTGTACCGGATGGCCAACGGGCATGGTTGCAATGTGTCCTGATATATAACATTGAGACTCGCTAGCTACGGAGTAGATGCATCGCAGATGTGCCGTATAAGAGCAGCGGACCTTCTGGATCAAACCTTCGTTAACTTGAACAGAGCTTCTGGAGACATTTTCAGGCCTGATTGACAACGATACACGCCGTTAGCCGATTGGGCACTACCCGCCGCATAACTAGATTCGCAGCTAGGCAATGAGCCACACCCGCCTCGACATAGCTACGTGGGGACGCTGGCAATGGCTGTAAGAATTGGATAAGAACTGATTGCGTGCGGAGATCTAGGTTTTGCTCTCAAAATACATGCTAAAAATTTAGTATGATAGCACCCGGCTGTGTATCAGTTATCCCTGCGCTTACTATGGGTAGAAGCCCTACCCAGTTGAGTTCCTTCGTTGGTGAGCAATTTCGGACGTAATCTTCTTCGTGGTTCATGGTGTGGATCTTGAGATCGACGTCGCTTCAGCGATTATGGACCCCTCACTCAATATTGTTTACGGATCAGCGCGTCATGATAACATGGCATTTCAGAATCCTCTCCCTAGGCATCATCGAATGGGAAAGGCTACTTCCTTGACAACAGGATATGGCGCCCATTCTCGGCCTTGACACACGAGGCTGCTTAGGCTCGCCGCATCTGAAACCTGCAATTAAAAGAATATTAGCGGGCCGAAACGGGACGACATCGGCATGCTAGGTCCTGTACCATCTCCGTTGTACAAAGTAAGTCGTAAATAAACCCTGATGCCCTCATAGTGAATTGGTCGCACGGAGAATGAA'"
      ]
     },
     "execution_count": 27,
     "metadata": {},
     "output_type": "execute_result"
    }
   ],
   "source": [
    "# this is using the above code on the test sequence for the exercise\n",
    "reverse_complement_w_biop(input_args_list[0])"
   ]
  },
  {
   "cell_type": "markdown",
   "metadata": {},
   "source": [
    "## Exercise 2: return index locations of a pattern in a larger sequence\n",
    "\n",
    "Have to think a bit more about how I want to do this"
   ]
  },
  {
   "cell_type": "code",
   "execution_count": 4,
   "metadata": {
    "collapsed": true
   },
   "outputs": [],
   "source": [
    "# do it with the brute force O(N) method\n",
    "def locate_pattern_in_genome(pattern, genome):\n",
    "    \"\"\"see https://stepik.org/lesson/3/step/5?course=Stepic-Interactive-Text-for-Week-1&unit=8232\n",
    "    \n",
    "    Using a brute force loop\n",
    "    \"\"\"\n",
    "    genome_length = len(genome)\n",
    "    pattern_length = len(pattern)\n",
    "    index_list = []\n",
    "    for i in range(genome_length - pattern_length):\n",
    "        if genome[i: i + pattern_length] == pattern:\n",
    "            index_list.append(i)\n",
    "    return index_list"
   ]
  },
  {
   "cell_type": "code",
   "execution_count": 5,
   "metadata": {},
   "outputs": [
    {
     "data": {
      "text/plain": [
       "[4, 6]"
      ]
     },
     "execution_count": 5,
     "metadata": {},
     "output_type": "execute_result"
    }
   ],
   "source": [
    "locate_pattern_in_genome('ATA', 'GACGATATACGACGATA')"
   ]
  },
  {
   "cell_type": "code",
   "execution_count": 29,
   "metadata": {},
   "outputs": [
    {
     "data": {
      "text/plain": [
       "[1, 3, 9]"
      ]
     },
     "execution_count": 29,
     "metadata": {},
     "output_type": "execute_result"
    }
   ],
   "source": [
    "locate_pattern_in_genome('ATAT', 'GATATATGCATATACTT')"
   ]
  },
  {
   "cell_type": "code",
   "execution_count": 31,
   "metadata": {
    "collapsed": true
   },
   "outputs": [],
   "source": [
    "with open('dataset_3_5.txt', 'r') as f:\n",
    "    test_input_two = f.read()"
   ]
  },
  {
   "cell_type": "code",
   "execution_count": 32,
   "metadata": {
    "collapsed": true
   },
   "outputs": [],
   "source": [
    "test_input_args = test_input_two.splitlines()"
   ]
  },
  {
   "cell_type": "code",
   "execution_count": 33,
   "metadata": {},
   "outputs": [
    {
     "data": {
      "text/plain": [
       "2"
      ]
     },
     "execution_count": 33,
     "metadata": {},
     "output_type": "execute_result"
    }
   ],
   "source": [
    "len(test_input_args)"
   ]
  },
  {
   "cell_type": "code",
   "execution_count": 34,
   "metadata": {},
   "outputs": [
    {
     "data": {
      "text/plain": [
       "9"
      ]
     },
     "execution_count": 34,
     "metadata": {},
     "output_type": "execute_result"
    }
   ],
   "source": [
    "len(test_input_args[0])"
   ]
  },
  {
   "cell_type": "code",
   "execution_count": 35,
   "metadata": {},
   "outputs": [
    {
     "data": {
      "text/plain": [
       "9936"
      ]
     },
     "execution_count": 35,
     "metadata": {},
     "output_type": "execute_result"
    }
   ],
   "source": [
    "len(test_input_args[1])"
   ]
  },
  {
   "cell_type": "code",
   "execution_count": 36,
   "metadata": {
    "collapsed": true
   },
   "outputs": [],
   "source": [
    "output_list = locate_pattern_in_genome(\n",
    "    test_input_args[0],\n",
    "    test_input_args[1]\n",
    ")"
   ]
  },
  {
   "cell_type": "code",
   "execution_count": 38,
   "metadata": {},
   "outputs": [
    {
     "data": {
      "text/plain": [
       "'19 59 74 180 215 240 256 350 459 586 593 646 653 675 682 696 713 1022 1043 1058 1065 1104 1111 1118 1125 1231 1238 1254 1272 1279 1320 1327 1422 1455 1488 1520 1527 1584 1630 1646 1674 1707 1714 1730 1798 1836 1843 1892 1909 1926 1933 1975 1982 2040 2060 2090 2267 2287 2311 2338 2481 2488 2495 2502 2509 2516 2523 2547 2620 2653 2702 2822 2876 2941 2956 2974 3031 3080 3129 3151 3167 3174 3313 3347 3365 3404 3480 3487 3586 3616 3676 3743 3818 3825 3840 3906 3913 3920 3927 3934 3941 3951 3958 3975 4022 4051 4091 4200 4244 4274 4315 4322 4491 4498 4542 4591 4630 4637 4644 4679 4708 4747 4783 4798 4813 4823 4839 4846 4862 4885 4892 4899 4996 5014 5077 5135 5260 5267 5303 5310 5317 5324 5358 5402 5421 5436 5468 5514 5538 5586 5621 5636 5693 5753 5768 5791 5820 5839 5855 5878 5990 6013 6031 6038 6089 6161 6187 6248 6273 6310 6337 6361 6368 6375 6382 6438 6463 6522 6537 6595 6686 6768 6775 6831 6838 6845 6898 6988 7052 7139 7162 7180 7296 7319 7334 7341 7381 7403 7410 7427 7508 7540 7555 7615 7728 7735 7742 7780 7790 7818 7875 7918 7954 7984 8002 8009 8016 8023 8044 8093 8104 8111 8149 8181 8198 8215 8250 8284 8318 8346 8398 8425 8522 8529 8541 8585 8610 8627 8634 8641 8648 8692 8699 8812 8890 8907 8929 8936 8968 8975 8994 9044 9051 9067 9088 9126 9146 9163 9198 9229 9236 9243 9278 9311 9336 9343 9378 9385 9403 9421 9428 9469 9509 9542 9556 9608 9673 9680 9692 9723 9730 9737 9744 9751 9766 9773 9806 9813 9922'"
      ]
     },
     "execution_count": 38,
     "metadata": {},
     "output_type": "execute_result"
    }
   ],
   "source": [
    "' '.join([str(item) for item in output_list])"
   ]
  },
  {
   "cell_type": "code",
   "execution_count": 40,
   "metadata": {
    "collapsed": true
   },
   "outputs": [],
   "source": [
    "with open('Vibrio_cholerae.txt', 'r') as f:\n",
    "    vibrio_genome_string = f.read()"
   ]
  },
  {
   "cell_type": "code",
   "execution_count": 41,
   "metadata": {},
   "outputs": [
    {
     "data": {
      "text/plain": [
       "1108250"
      ]
     },
     "execution_count": 41,
     "metadata": {},
     "output_type": "execute_result"
    }
   ],
   "source": [
    "len(vibrio_genome_string)"
   ]
  },
  {
   "cell_type": "code",
   "execution_count": 43,
   "metadata": {},
   "outputs": [
    {
     "name": "stdout",
     "output_type": "stream",
     "text": [
      "1\n",
      "TCGCAAAA\n"
     ]
    }
   ],
   "source": [
    "# are there line returns?\n",
    "print len(vibrio_genome_string.splitlines())\n",
    "print vibrio_genome_string[-8:]"
   ]
  },
  {
   "cell_type": "code",
   "execution_count": 44,
   "metadata": {
    "collapsed": true
   },
   "outputs": [],
   "source": [
    "genome_output_list = locate_pattern_in_genome('CTTGATCAT', vibrio_genome_string)"
   ]
  },
  {
   "cell_type": "code",
   "execution_count": 45,
   "metadata": {},
   "outputs": [
    {
     "data": {
      "text/plain": [
       "16"
      ]
     },
     "execution_count": 45,
     "metadata": {},
     "output_type": "execute_result"
    }
   ],
   "source": [
    "len(genome_output_list)"
   ]
  },
  {
   "cell_type": "code",
   "execution_count": 46,
   "metadata": {},
   "outputs": [
    {
     "data": {
      "text/plain": [
       "'60039 98409 129189 152283 152354 152411 163207 197028 200160 357976 376771 392723 532935 600085 622755 1065555'"
      ]
     },
     "execution_count": 46,
     "metadata": {},
     "output_type": "execute_result"
    }
   ],
   "source": [
    "' '.join([str(item) for item in genome_output_list])"
   ]
  },
  {
   "cell_type": "code",
   "execution_count": null,
   "metadata": {
    "collapsed": true
   },
   "outputs": [],
   "source": [
    "# this is the end of the 1.3 section of the course materal"
   ]
  }
 ],
 "metadata": {
  "kernelspec": {
   "display_name": "Python 2",
   "language": "python",
   "name": "python2"
  },
  "language_info": {
   "codemirror_mode": {
    "name": "ipython",
    "version": 2
   },
   "file_extension": ".py",
   "mimetype": "text/x-python",
   "name": "python",
   "nbconvert_exporter": "python",
   "pygments_lexer": "ipython2",
   "version": "2.7.6"
  }
 },
 "nbformat": 4,
 "nbformat_minor": 2
}
