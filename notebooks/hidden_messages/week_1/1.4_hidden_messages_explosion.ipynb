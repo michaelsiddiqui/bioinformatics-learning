{
 "cells": [
  {
   "cell_type": "markdown",
   "metadata": {},
   "source": [
    "# 1.4 An Explosion of Hidden Messages\n",
    "\n",
    "Notebook to record my scratch work following along with this section of the \"Hidden Messages\" coursework\n",
    "\n",
    "See https://stepik.org/lesson/4/step/1?course=Stepic-Interactive-Text-for-Week-1&unit=8233"
   ]
  },
  {
   "cell_type": "markdown",
   "metadata": {},
   "source": [
    "## Coding exercise in 1.4 - \"Clump finding exercise\"\n",
    "\n",
    "Looks like visiting 1.5 might be worthwhile before attacking the coding problem in this section. I'll try brute force first anyway. My implementation of the subsequence frequency analysis uses Counter, which may simplify the inner loop.\n",
    "\n",
    "Let's make sure that I understand this problem: There are three variables here: L, k, t\n",
    "\n",
    "L is the length of the sliding window within the genome\n",
    "\n",
    "k is the length of the k-mer size to inspect\n",
    "\n",
    "t is the minimum frequency at which one should report out a kmer as a result\n"
   ]
  },
  {
   "cell_type": "code",
   "execution_count": 1,
   "metadata": {
    "collapsed": true
   },
   "outputs": [],
   "source": [
    "from collections import Counter"
   ]
  },
  {
   "cell_type": "code",
   "execution_count": 2,
   "metadata": {
    "collapsed": true
   },
   "outputs": [],
   "source": [
    "# Inner loop: take the subsequence within the L sliding window, generate a frequency of kmers\n",
    "# this code can come from stuff I coded in 1.2\n",
    "def frequent_kmers(input_text, k):\n",
    "    \"\"\"practice function for bioinformatics MOOC\n",
    "    \"\"\"\n",
    "    diff_length = len(input_text) - k\n",
    "    kmer_list = []\n",
    "    for i in range(diff_length + 1):\n",
    "        kmer_list.append(input_text[i: i + k])\n",
    "    kmer_frequency = Counter(kmer_list)\n",
    "    return kmer_frequency"
   ]
  },
  {
   "cell_type": "code",
   "execution_count": 4,
   "metadata": {
    "collapsed": true
   },
   "outputs": [],
   "source": [
    "fivemer_freq_dict = frequent_kmers('CGGACTCGACAGATGTGAAGAACGACAATGTGAAGACTCGACACGACAGAGTGAAGAGAAGAGGAAACATTGTAA', 5)"
   ]
  },
  {
   "cell_type": "code",
   "execution_count": 5,
   "metadata": {},
   "outputs": [
    {
     "data": {
      "text/plain": [
       "['CGACA', 'GAAGA']"
      ]
     },
     "execution_count": 5,
     "metadata": {},
     "output_type": "execute_result"
    }
   ],
   "source": [
    "# what fivemers are above 4 count?\n",
    "[key for key, value in fivemer_freq_dict.iteritems() if value > 3]"
   ]
  },
  {
   "cell_type": "code",
   "execution_count": 6,
   "metadata": {
    "collapsed": true
   },
   "outputs": [],
   "source": [
    "def keys_from_count_filter(counter_obj, value):\n",
    "    \"\"\"return keys where count number is >= value\n",
    "    \"\"\"\n",
    "    output_list = [\n",
    "        key for key, c in counter_obj.iteritems() if c >= value\n",
    "    ]\n",
    "    return output_list"
   ]
  },
  {
   "cell_type": "code",
   "execution_count": 8,
   "metadata": {},
   "outputs": [
    {
     "data": {
      "text/plain": [
       "['CGACA', 'GAAGA']"
      ]
     },
     "execution_count": 8,
     "metadata": {},
     "output_type": "execute_result"
    }
   ],
   "source": [
    "keys_from_count_filter(fivemer_freq_dict, 4)"
   ]
  },
  {
   "cell_type": "code",
   "execution_count": 9,
   "metadata": {
    "collapsed": true
   },
   "outputs": [],
   "source": [
    "def find_patterns_forming_clumps_in_genome(genome, k, window, count):\n",
    "    \"\"\"see https://stepik.org/lesson/4/step/5?course=Stepic-Interactive-Text-for-Week-1&unit=8233\n",
    "    \n",
    "    k = k\n",
    "    window = L\n",
    "    count = t\n",
    "    \"\"\"\n",
    "    output_list = []\n",
    "    genome_length = len(genome)\n",
    "    for i in range(genome_length - window):\n",
    "        window_sequence = genome[i: i + window]\n",
    "        kmer_counts = frequent_kmers(window_sequence, k)\n",
    "        pattern_list = keys_from_count_filter(kmer_counts, count)\n",
    "        output_list.extend(pattern_list)\n",
    "    return list(set(output_list))"
   ]
  },
  {
   "cell_type": "code",
   "execution_count": 10,
   "metadata": {},
   "outputs": [
    {
     "data": {
      "text/plain": [
       "['CGACA', 'GAAGA']"
      ]
     },
     "execution_count": 10,
     "metadata": {},
     "output_type": "execute_result"
    }
   ],
   "source": [
    "find_patterns_forming_clumps_in_genome(\n",
    "    'CGGACTCGACAGATGTGAAGAACGACAATGTGAAGACTCGACACGACAGAGTGAAGAGAAGAGGAAACATTGTAA',\n",
    "    5,\n",
    "    50,\n",
    "    4\n",
    ")"
   ]
  },
  {
   "cell_type": "code",
   "execution_count": 12,
   "metadata": {
    "collapsed": true
   },
   "outputs": [],
   "source": [
    "with open('dataset_4_5.txt', 'r') as f:\n",
    "    dataset_4_5_raw = f.read()"
   ]
  },
  {
   "cell_type": "code",
   "execution_count": 13,
   "metadata": {
    "collapsed": true
   },
   "outputs": [],
   "source": [
    "dataset_4_5_args = dataset_4_5_raw.splitlines()"
   ]
  },
  {
   "cell_type": "code",
   "execution_count": 14,
   "metadata": {},
   "outputs": [
    {
     "data": {
      "text/plain": [
       "2"
      ]
     },
     "execution_count": 14,
     "metadata": {},
     "output_type": "execute_result"
    }
   ],
   "source": [
    "len(dataset_4_5_args)"
   ]
  },
  {
   "cell_type": "code",
   "execution_count": 15,
   "metadata": {},
   "outputs": [
    {
     "data": {
      "text/plain": [
       "9141"
      ]
     },
     "execution_count": 15,
     "metadata": {},
     "output_type": "execute_result"
    }
   ],
   "source": [
    "len(dataset_4_5_args[0])"
   ]
  },
  {
   "cell_type": "code",
   "execution_count": 16,
   "metadata": {},
   "outputs": [
    {
     "data": {
      "text/plain": [
       "'10 518 20'"
      ]
     },
     "execution_count": 16,
     "metadata": {},
     "output_type": "execute_result"
    }
   ],
   "source": [
    "dataset_4_5_args[1]"
   ]
  },
  {
   "cell_type": "code",
   "execution_count": 18,
   "metadata": {
    "collapsed": true
   },
   "outputs": [],
   "source": [
    "k_L_t = [int(item) for item in dataset_4_5_args[1].split(' ')]"
   ]
  },
  {
   "cell_type": "code",
   "execution_count": 19,
   "metadata": {},
   "outputs": [
    {
     "data": {
      "text/plain": [
       "[10, 518, 20]"
      ]
     },
     "execution_count": 19,
     "metadata": {},
     "output_type": "execute_result"
    }
   ],
   "source": [
    "k_L_t"
   ]
  },
  {
   "cell_type": "code",
   "execution_count": 21,
   "metadata": {
    "collapsed": true
   },
   "outputs": [],
   "source": [
    "test_output = find_patterns_forming_clumps_in_genome(\n",
    "    dataset_4_5_args[0],\n",
    "    k_L_t[0],\n",
    "    k_L_t[1],\n",
    "    k_L_t[2]\n",
    ")"
   ]
  },
  {
   "cell_type": "code",
   "execution_count": 22,
   "metadata": {},
   "outputs": [
    {
     "data": {
      "text/plain": [
       "'GCATCGATTT TTGCATCGAT TCACAGGGTG ATCGATTTGC CATCGATTTG ATTTGCATCG CGATTTGCAT GTCACAGGGT GATTTGCATC TGTCACAGGG CCAAGGCATC TTTTGTATAC AAGGCATCCC GGGTGTCACA TCGATTTGCA TGCATCGATT TTTGCTTCTT GGTGTCACAG CAAGGCATCC TTTGCATCGA ACAGGGTGTC AGGGTGTCAC AATGCAACTG GTGTCACAGG GTTATCTCAA CACAGGGTGT CCCAAGGCAT CAGGGTGTCA AAGTGAGACG'"
      ]
     },
     "execution_count": 22,
     "metadata": {},
     "output_type": "execute_result"
    }
   ],
   "source": [
    "' '.join(test_output)"
   ]
  },
  {
   "cell_type": "code",
   "execution_count": null,
   "metadata": {
    "collapsed": true
   },
   "outputs": [],
   "source": []
  }
 ],
 "metadata": {
  "kernelspec": {
   "display_name": "Python 2",
   "language": "python",
   "name": "python2"
  },
  "language_info": {
   "codemirror_mode": {
    "name": "ipython",
    "version": 2
   },
   "file_extension": ".py",
   "mimetype": "text/x-python",
   "name": "python",
   "nbconvert_exporter": "python",
   "pygments_lexer": "ipython2",
   "version": "2.7.6"
  }
 },
 "nbformat": 4,
 "nbformat_minor": 2
}
