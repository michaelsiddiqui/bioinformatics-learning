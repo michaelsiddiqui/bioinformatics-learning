{
 "cells": [
  {
   "cell_type": "markdown",
   "metadata": {},
   "source": [
    "# 1.6 CS: Converting Patterns to Numbers and Vice-Versa\n",
    "\n",
    "See https://stepik.org/lesson/3010/step/2?course=Stepic-Interactive-Text-for-Week-1&unit=8235\n",
    "\n",
    "Translate pseudo code in the exercise to a version that works here in Python 2.7"
   ]
  },
  {
   "cell_type": "code",
   "execution_count": 1,
   "metadata": {
    "collapsed": true
   },
   "outputs": [],
   "source": [
    "sample_input = 'AGT'"
   ]
  },
  {
   "cell_type": "code",
   "execution_count": 2,
   "metadata": {},
   "outputs": [
    {
     "data": {
      "text/plain": [
       "'T'"
      ]
     },
     "execution_count": 2,
     "metadata": {},
     "output_type": "execute_result"
    }
   ],
   "source": [
    "sample_input[-1]"
   ]
  },
  {
   "cell_type": "code",
   "execution_count": 3,
   "metadata": {},
   "outputs": [
    {
     "data": {
      "text/plain": [
       "'AG'"
      ]
     },
     "execution_count": 3,
     "metadata": {},
     "output_type": "execute_result"
    }
   ],
   "source": [
    "sample_input[:-1]"
   ]
  },
  {
   "cell_type": "code",
   "execution_count": 4,
   "metadata": {
    "collapsed": true
   },
   "outputs": [],
   "source": [
    "def pattern_to_number(pattern_string):\n",
    "    \"\"\"Use recursion to calculate the index number of a kmer in the frequency array\n",
    "    \"\"\"\n",
    "    base_to_num = {\n",
    "        'A' : 0,\n",
    "        'C' : 1,\n",
    "        'G' : 2,\n",
    "        'T' : 3\n",
    "    }\n",
    "    if len(pattern_string) < 1:\n",
    "        return 0\n",
    "    last_char = pattern_string[-1]\n",
    "    minus_last_char = pattern_string[:-1]\n",
    "    output_int = 4 * pattern_to_number(minus_last_char) + base_to_num[last_char]\n",
    "    return output_int"
   ]
  },
  {
   "cell_type": "code",
   "execution_count": 5,
   "metadata": {},
   "outputs": [
    {
     "data": {
      "text/plain": [
       "11"
      ]
     },
     "execution_count": 5,
     "metadata": {},
     "output_type": "execute_result"
    }
   ],
   "source": [
    "pattern_to_number(sample_input)"
   ]
  },
  {
   "cell_type": "code",
   "execution_count": 6,
   "metadata": {
    "collapsed": true
   },
   "outputs": [],
   "source": [
    "def consume_test_txt_file(filename):\n",
    "    \"\"\"wrap frequently re-used text consumption code patterns into a helper function\n",
    "    \"\"\"\n",
    "    with open(filename, 'r') as f:\n",
    "        raw_text = f.read()\n",
    "    text_args = raw_text.splitlines()\n",
    "    return text_args"
   ]
  },
  {
   "cell_type": "code",
   "execution_count": 7,
   "metadata": {},
   "outputs": [
    {
     "name": "stdout",
     "output_type": "stream",
     "text": [
      "1.2_hidden_messages_in_rep_ori.ipynb               dataset_3010_2.txt\r\n",
      "1.3_hidden_messages_more_surprising.ipynb          dataset_3_2.txt\r\n",
      "1.4_hidden_messages_explosion.ipynb                dataset_3_5.txt\r\n",
      "1.5_charging_station_frequencies.ipynb             dataset_4_5.txt\r\n",
      "1.6_Converting_patterns_to_numbers_and_back.ipynb  frequent_words.txt\r\n",
      "answer.txt                                         PatternCount.txt\r\n",
      "dataset_2_10.txt                                   Vibrio_cholerae.txt\r\n",
      "dataset_2994_5.txt\r\n"
     ]
    }
   ],
   "source": [
    "ls"
   ]
  },
  {
   "cell_type": "code",
   "execution_count": 8,
   "metadata": {
    "collapsed": true
   },
   "outputs": [],
   "source": [
    "input_args = consume_test_txt_file('dataset_3010_2.txt')"
   ]
  },
  {
   "cell_type": "code",
   "execution_count": 9,
   "metadata": {},
   "outputs": [
    {
     "data": {
      "text/plain": [
       "1"
      ]
     },
     "execution_count": 9,
     "metadata": {},
     "output_type": "execute_result"
    }
   ],
   "source": [
    "len(input_args)"
   ]
  },
  {
   "cell_type": "code",
   "execution_count": 10,
   "metadata": {},
   "outputs": [
    {
     "data": {
      "text/plain": [
       "19"
      ]
     },
     "execution_count": 10,
     "metadata": {},
     "output_type": "execute_result"
    }
   ],
   "source": [
    "len(input_args[0])"
   ]
  },
  {
   "cell_type": "code",
   "execution_count": 11,
   "metadata": {},
   "outputs": [
    {
     "data": {
      "text/plain": [
       "176631262296"
      ]
     },
     "execution_count": 11,
     "metadata": {},
     "output_type": "execute_result"
    }
   ],
   "source": [
    "pattern_to_number(input_args[0])"
   ]
  },
  {
   "cell_type": "markdown",
   "metadata": {},
   "source": [
    "## Define `NumberToPattern` from pseudocode in step 5\n",
    "\n",
    "See https://stepik.org/lesson/3010/step/5?course=Stepic-Interactive-Text-for-Week-1&unit=8235"
   ]
  },
  {
   "cell_type": "code",
   "execution_count": 12,
   "metadata": {
    "collapsed": true
   },
   "outputs": [],
   "source": [
    "import math"
   ]
  },
  {
   "cell_type": "code",
   "execution_count": 13,
   "metadata": {},
   "outputs": [
    {
     "data": {
      "text/plain": [
       "64.0"
      ]
     },
     "execution_count": 13,
     "metadata": {},
     "output_type": "execute_result"
    }
   ],
   "source": [
    "math.pow(4,3)"
   ]
  },
  {
   "cell_type": "code",
   "execution_count": 14,
   "metadata": {},
   "outputs": [
    {
     "data": {
      "text/plain": [
       "11"
      ]
     },
     "execution_count": 14,
     "metadata": {},
     "output_type": "execute_result"
    }
   ],
   "source": [
    "45 / 4"
   ]
  },
  {
   "cell_type": "code",
   "execution_count": 15,
   "metadata": {},
   "outputs": [
    {
     "data": {
      "text/plain": [
       "1"
      ]
     },
     "execution_count": 15,
     "metadata": {},
     "output_type": "execute_result"
    }
   ],
   "source": [
    "45 % 4"
   ]
  },
  {
   "cell_type": "code",
   "execution_count": 18,
   "metadata": {
    "collapsed": true
   },
   "outputs": [],
   "source": [
    "def number_to_pattern(index, k):\n",
    "    \"\"\"Use recursion to find an unambiguous DNA sequence from its index among same length kmers\n",
    "    \n",
    "    \"\"\"\n",
    "    k = int(k)\n",
    "    index = int(index)\n",
    "    max_index = int(math.pow(4,k))\n",
    "    if index > max_index:\n",
    "        raise ValueError(\"index must be less than 4^k\")\n",
    "    num_to_base = {\n",
    "        0 : 'A',\n",
    "        1 : 'C',\n",
    "        2 : 'G',\n",
    "        3 : 'T'\n",
    "    }\n",
    "    if k == 1:\n",
    "        return num_to_base[index]\n",
    "    prefix_index = index / 4\n",
    "    remainder = index % 4\n",
    "    last_base = num_to_base[remainder]\n",
    "    output_string = number_to_pattern(prefix_index, k - 1) + last_base\n",
    "    return output_string"
   ]
  },
  {
   "cell_type": "code",
   "execution_count": 19,
   "metadata": {},
   "outputs": [
    {
     "data": {
      "text/plain": [
       "'AGTC'"
      ]
     },
     "execution_count": 19,
     "metadata": {},
     "output_type": "execute_result"
    }
   ],
   "source": [
    "number_to_pattern(45, 4)"
   ]
  },
  {
   "cell_type": "code",
   "execution_count": 20,
   "metadata": {},
   "outputs": [
    {
     "name": "stdout",
     "output_type": "stream",
     "text": [
      "1.2_hidden_messages_in_rep_ori.ipynb               dataset_3010_2.txt\r\n",
      "1.3_hidden_messages_more_surprising.ipynb          dataset_3010_5.txt\r\n",
      "1.4_hidden_messages_explosion.ipynb                dataset_3_2.txt\r\n",
      "1.5_charging_station_frequencies.ipynb             dataset_3_5.txt\r\n",
      "1.6_Converting_patterns_to_numbers_and_back.ipynb  dataset_4_5.txt\r\n",
      "answer.txt                                         frequent_words.txt\r\n",
      "dataset_2_10.txt                                   PatternCount.txt\r\n",
      "dataset_2994_5.txt                                 Vibrio_cholerae.txt\r\n"
     ]
    }
   ],
   "source": [
    "ls"
   ]
  },
  {
   "cell_type": "code",
   "execution_count": 22,
   "metadata": {
    "collapsed": true
   },
   "outputs": [],
   "source": [
    "input_args = consume_test_txt_file('dataset_3010_5.txt')"
   ]
  },
  {
   "cell_type": "code",
   "execution_count": 23,
   "metadata": {},
   "outputs": [
    {
     "data": {
      "text/plain": [
       "'GAATAAG'"
      ]
     },
     "execution_count": 23,
     "metadata": {},
     "output_type": "execute_result"
    }
   ],
   "source": [
    "number_to_pattern(*input_args)"
   ]
  },
  {
   "cell_type": "code",
   "execution_count": null,
   "metadata": {
    "collapsed": true
   },
   "outputs": [],
   "source": []
  }
 ],
 "metadata": {
  "kernelspec": {
   "display_name": "Python 2",
   "language": "python",
   "name": "python2"
  },
  "language_info": {
   "codemirror_mode": {
    "name": "ipython",
    "version": 2
   },
   "file_extension": ".py",
   "mimetype": "text/x-python",
   "name": "python",
   "nbconvert_exporter": "python",
   "pygments_lexer": "ipython2",
   "version": "2.7.6"
  }
 },
 "nbformat": 4,
 "nbformat_minor": 2
}
