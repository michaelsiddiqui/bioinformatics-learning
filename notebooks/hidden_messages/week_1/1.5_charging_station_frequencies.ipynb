{
 "cells": [
  {
   "cell_type": "markdown",
   "metadata": {},
   "source": [
    "# 1.5 Charging Station Frequency Calculation Exercise in \"Hidden Messages\"\n",
    "\n",
    "See https://stepik.org/lesson/2994/step/1?course=Stepic-Interactive-Text-for-Week-1&unit=8234\n"
   ]
  },
  {
   "cell_type": "markdown",
   "metadata": {},
   "source": [
    "## Frequency array discussion problem\n",
    "\n",
    "Charging station exercise walking through how to use mapping tables to speed up frequence calculations"
   ]
  },
  {
   "cell_type": "code",
   "execution_count": 5,
   "metadata": {
    "collapsed": true
   },
   "outputs": [],
   "source": [
    "import itertools"
   ]
  },
  {
   "cell_type": "markdown",
   "metadata": {},
   "source": [
    "## Function def to get indexing array\n",
    "\n",
    "Here I am using a Python dictionary\n",
    "\n",
    "See: https://stepik.org/lesson/2994/step/1?course=Stepic-Interactive-Text-for-Week-1&unit=8234"
   ]
  },
  {
   "cell_type": "code",
   "execution_count": 6,
   "metadata": {
    "collapsed": true
   },
   "outputs": [],
   "source": [
    "def gen_freq_array_index(input_string):\n",
    "    \"\"\"Generate a frequency array index from an input string\n",
    "    \n",
    "    Assume IUPAC unambiguous characters. Use cast to upper\"\"\"\n",
    "    length = len(input_string)\n",
    "    sorted_dna_char = 'ACGT'\n",
    "    accepted_chars = set(sorted_dna_char)\n",
    "    array_string = input_string.upper()\n",
    "    if not set(array_string).issubset(accepted_chars):\n",
    "        raise ValueError(\"expect IUPAC non-ambiguous DNA characters in input\")\n",
    "    iter_object = itertools.product(list(sorted_dna_char), repeat=length)\n",
    "    string_list = [''.join(item) for item in iter_object]\n",
    "    string_dict = {\n",
    "        item: i for i, item in enumerate(string_list)\n",
    "    }\n",
    "    return string_dict\n",
    "    "
   ]
  },
  {
   "cell_type": "code",
   "execution_count": 7,
   "metadata": {},
   "outputs": [
    {
     "data": {
      "text/plain": [
       "{'AA': 0,\n",
       " 'AC': 1,\n",
       " 'AG': 2,\n",
       " 'AT': 3,\n",
       " 'CA': 4,\n",
       " 'CC': 5,\n",
       " 'CG': 6,\n",
       " 'CT': 7,\n",
       " 'GA': 8,\n",
       " 'GC': 9,\n",
       " 'GG': 10,\n",
       " 'GT': 11,\n",
       " 'TA': 12,\n",
       " 'TC': 13,\n",
       " 'TG': 14,\n",
       " 'TT': 15}"
      ]
     },
     "execution_count": 7,
     "metadata": {},
     "output_type": "execute_result"
    }
   ],
   "source": [
    "gen_freq_array_index('GT')"
   ]
  },
  {
   "cell_type": "markdown",
   "metadata": {},
   "source": [
    "## Function to get patttern_to_number\n",
    "\n",
    "See: https://stepik.org/lesson/2994/step/2?course=Stepic-Interactive-Text-for-Week-1&unit=8234"
   ]
  },
  {
   "cell_type": "code",
   "execution_count": 8,
   "metadata": {
    "collapsed": true
   },
   "outputs": [],
   "source": [
    "def pattern_to_number(input_string):\n",
    "    \"\"\"give the index number of the string from gen_array\n",
    "    \n",
    "    Call gen_freq_array_index with string and then find value from dictionary\"\"\"\n",
    "    array_dict = gen_freq_array_index(input_string)\n",
    "    output_num = array_dict[input_string]\n",
    "    return output_num"
   ]
  },
  {
   "cell_type": "code",
   "execution_count": 9,
   "metadata": {},
   "outputs": [
    {
     "data": {
      "text/plain": [
       "11"
      ]
     },
     "execution_count": 9,
     "metadata": {},
     "output_type": "execute_result"
    }
   ],
   "source": [
    "pattern_to_number('GT')"
   ]
  },
  {
   "cell_type": "code",
   "execution_count": 10,
   "metadata": {},
   "outputs": [
    {
     "data": {
      "text/plain": [
       "912"
      ]
     },
     "execution_count": 10,
     "metadata": {},
     "output_type": "execute_result"
    }
   ],
   "source": [
    "pattern_to_number('ATGCAA')"
   ]
  },
  {
   "cell_type": "markdown",
   "metadata": {},
   "source": [
    "## Looking at how to implement `number_to_pattern` may refactor gen index array"
   ]
  },
  {
   "cell_type": "code",
   "execution_count": 11,
   "metadata": {
    "collapsed": true
   },
   "outputs": [],
   "source": [
    "def gen_freq_array_index_from_number(input_int):\n",
    "    \"\"\"Generate a frequency array index from an input integer\n",
    "    \n",
    "    Assume only uppercase IUPAC unambiguous characters.\"\"\"\n",
    "    sorted_dna_char = 'ACGT'\n",
    "    iter_object = itertools.product(list(sorted_dna_char), repeat=input_int)\n",
    "    string_list = [''.join(item) for item in iter_object]\n",
    "    string_dict = {\n",
    "        item: i for i, item in enumerate(string_list)\n",
    "    }\n",
    "    return string_dict\n",
    "    "
   ]
  },
  {
   "cell_type": "code",
   "execution_count": 12,
   "metadata": {},
   "outputs": [
    {
     "data": {
      "text/plain": [
       "{'AA': 0,\n",
       " 'AC': 1,\n",
       " 'AG': 2,\n",
       " 'AT': 3,\n",
       " 'CA': 4,\n",
       " 'CC': 5,\n",
       " 'CG': 6,\n",
       " 'CT': 7,\n",
       " 'GA': 8,\n",
       " 'GC': 9,\n",
       " 'GG': 10,\n",
       " 'GT': 11,\n",
       " 'TA': 12,\n",
       " 'TC': 13,\n",
       " 'TG': 14,\n",
       " 'TT': 15}"
      ]
     },
     "execution_count": 12,
     "metadata": {},
     "output_type": "execute_result"
    }
   ],
   "source": [
    "gen_freq_array_index_from_number(2)"
   ]
  },
  {
   "cell_type": "markdown",
   "metadata": {},
   "source": [
    "## Function Definition for number_to_pattern\n",
    "\n",
    "See https://stepik.org/lesson/2994/step/3?course=Stepic-Interactive-Text-for-Week-1&unit=8234"
   ]
  },
  {
   "cell_type": "code",
   "execution_count": 13,
   "metadata": {
    "collapsed": true
   },
   "outputs": [],
   "source": [
    "def number_to_pattern(input_index, input_length):\n",
    "    \"\"\"see https://stepik.org/lesson/2994/step/3\"\"\"\n",
    "    index_array_dict = gen_freq_array_index_from_number(input_length)\n",
    "    output_index = [\n",
    "       key for key, value in index_array_dict.iteritems() if value == input_index \n",
    "    ][0]\n",
    "    return output_index"
   ]
  },
  {
   "cell_type": "code",
   "execution_count": 14,
   "metadata": {},
   "outputs": [
    {
     "data": {
      "text/plain": [
       "'GT'"
      ]
     },
     "execution_count": 14,
     "metadata": {},
     "output_type": "execute_result"
    }
   ],
   "source": [
    "number_to_pattern(11,2)"
   ]
  },
  {
   "cell_type": "code",
   "execution_count": 15,
   "metadata": {},
   "outputs": [
    {
     "data": {
      "text/plain": [
       "'ACCCATTC'"
      ]
     },
     "execution_count": 15,
     "metadata": {},
     "output_type": "execute_result"
    }
   ],
   "source": [
    "number_to_pattern(5437, 8)"
   ]
  },
  {
   "cell_type": "code",
   "execution_count": null,
   "metadata": {
    "collapsed": true
   },
   "outputs": [],
   "source": []
  },
  {
   "cell_type": "markdown",
   "metadata": {},
   "source": [
    "## Function definition to get \"ComputingFrequencies\"\n",
    "\n",
    "See: https://stepik.org/lesson/2994/step/5?course=Stepic-Interactive-Text-for-Week-1&unit=8234"
   ]
  },
  {
   "cell_type": "code",
   "execution_count": 3,
   "metadata": {
    "collapsed": true
   },
   "outputs": [],
   "source": [
    "import math"
   ]
  },
  {
   "cell_type": "code",
   "execution_count": 148,
   "metadata": {
    "collapsed": true
   },
   "outputs": [],
   "source": [
    "def computing_frequencies(input_string, k):\n",
    "    \"\"\"see https://stepik.org/lesson/2994/step/5\"\"\"\n",
    "    index_length = int(math.pow(4,k))\n",
    "    freq_array_index_to_kmer = {\n",
    "        i : 0 for i in range(index_length)\n",
    "    }\n",
    "    for i in range(len(input_string)):\n",
    "        pattern = input_string[i: i+k]\n",
    "        j = pattern_to_number(pattern)\n",
    "        freq_array_index_to_kmer[j] += 1\n",
    "    return freq_array_index_to_kmer.values()"
   ]
  },
  {
   "cell_type": "code",
   "execution_count": 150,
   "metadata": {
    "collapsed": true
   },
   "outputs": [],
   "source": [
    "output_string = computing_frequencies('TCCGCATTGGTGCTACCCGGTCCCTCAACACGTGTGAAGTGGTGTGTCGGTTTCAACCCGCACCCCTCTGAGTGCATTTATCATAGGTCCAAAACCACCTTCCTCGATCTAGCGAGGGGCGCTATTGGTAGTACCATCAGAGTGACGCCGCTCGCAGCCTTAACCGATCAGTAGGCCGACGGTCGTTGCTTTTCAGCCTTGCTAGTCGCAGGTGAAGTATTGAGTGTAGTGATCATTGGGCCAGAGATGTGAGTAGGGCTCCTCTGGCCTTTGCTGACATGTGGAAAATTGGCTTGGCTAGCGACGGCGTGAGGTCTAGTACACTTTCATTGCCACGATGGTAGTATCGGATACTCTTTCTCAGTAATACAGTAATAACTATTGTTACTCTTTACTATAGCAGCCTTTCCCTAGAGAGTGAGTCTCTAAGAGAGTATCAGAGGCCTCGCAAGATCCTGGCTTAAAGCTATGTGTGGAGTACTCCCTGTTGTAAGGCACTCTCTGAAATCTCAATCCGACGGCCAACAAGCAGTGTTTCCATGGGCTGCTTACGTCGGGCAGAGGTGAAGATTATCTCGGTGGGGGCGGAGGCCCTAAGTTGGCACAGTTGGAGCAGGGACTGTTTCAAGACGGGATTCCAGCGGAGTCGCCAGTAATGGGTGCTCCGAAAACCTTGCACCACAGCTGGCACCAAGAGGACCCAGACTTACT', 6)"
   ]
  },
  {
   "cell_type": "code",
   "execution_count": 152,
   "metadata": {
    "collapsed": true
   },
   "outputs": [],
   "source": [
    "with open('answer.txt', 'w') as f:\n",
    "    f.write(str(output_string))"
   ]
  },
  {
   "cell_type": "code",
   "execution_count": 18,
   "metadata": {
    "collapsed": true
   },
   "outputs": [],
   "source": [
    "def computing_frequencies(input_string, k):\n",
    "    \"\"\"see https://stepik.org/lesson/2994/step/5\"\"\"\n",
    "    index_length = int(math.pow(4,k))\n",
    "    freq_array_index_to_kmer = {\n",
    "        i : 0 for i in range(index_length)\n",
    "    }\n",
    "    for i in range(len(input_string) - k):\n",
    "        pattern = input_string[i: i+k]\n",
    "        j = pattern_to_number(pattern)\n",
    "        freq_array_index_to_kmer[j] += 1\n",
    "    return freq_array_index_to_kmer.values()"
   ]
  },
  {
   "cell_type": "code",
   "execution_count": 19,
   "metadata": {},
   "outputs": [
    {
     "data": {
      "text/plain": [
       "[1, 1, 0, 0, 0, 0, 2, 2, 1, 2, 1, 0, 0, 1, 1, 0]"
      ]
     },
     "execution_count": 19,
     "metadata": {},
     "output_type": "execute_result"
    }
   ],
   "source": [
    "computing_frequencies('ACGCGGCTCTGAAA', 2)"
   ]
  },
  {
   "cell_type": "code",
   "execution_count": 20,
   "metadata": {
    "collapsed": true
   },
   "outputs": [],
   "source": [
    "def computing_frequencies(input_string, k):\n",
    "    \"\"\"see https://stepik.org/lesson/2994/step/5\"\"\"\n",
    "    index_length = int(math.pow(4,k))\n",
    "    freq_array_index_to_kmer = {\n",
    "        i : 0 for i in range(index_length)\n",
    "    }\n",
    "    for i in range(len(input_string) - k + 1):\n",
    "        pattern = input_string[i: i+k]\n",
    "        j = pattern_to_number(pattern)\n",
    "        freq_array_index_to_kmer[j] += 1\n",
    "    return freq_array_index_to_kmer.values()"
   ]
  },
  {
   "cell_type": "code",
   "execution_count": 21,
   "metadata": {},
   "outputs": [
    {
     "data": {
      "text/plain": [
       "[2, 1, 0, 0, 0, 0, 2, 2, 1, 2, 1, 0, 0, 1, 1, 0]"
      ]
     },
     "execution_count": 21,
     "metadata": {},
     "output_type": "execute_result"
    }
   ],
   "source": [
    "computing_frequencies('ACGCGGCTCTGAAA', 2)"
   ]
  },
  {
   "cell_type": "code",
   "execution_count": 23,
   "metadata": {
    "collapsed": true
   },
   "outputs": [],
   "source": [
    "with open('dataset_2994_5.txt', 'r') as f:\n",
    "    dataset_2994_5_raw = f.read()"
   ]
  },
  {
   "cell_type": "code",
   "execution_count": 24,
   "metadata": {},
   "outputs": [
    {
     "data": {
      "text/plain": [
       "804"
      ]
     },
     "execution_count": 24,
     "metadata": {},
     "output_type": "execute_result"
    }
   ],
   "source": [
    "len(dataset_2994_5_raw)"
   ]
  },
  {
   "cell_type": "code",
   "execution_count": 25,
   "metadata": {
    "collapsed": true
   },
   "outputs": [],
   "source": [
    "dataset_2994_5_args = dataset_2994_5_raw.splitlines()"
   ]
  },
  {
   "cell_type": "code",
   "execution_count": 26,
   "metadata": {},
   "outputs": [
    {
     "data": {
      "text/plain": [
       "2"
      ]
     },
     "execution_count": 26,
     "metadata": {},
     "output_type": "execute_result"
    }
   ],
   "source": [
    "len(dataset_2994_5_args)"
   ]
  },
  {
   "cell_type": "code",
   "execution_count": 27,
   "metadata": {},
   "outputs": [
    {
     "data": {
      "text/plain": [
       "799"
      ]
     },
     "execution_count": 27,
     "metadata": {},
     "output_type": "execute_result"
    }
   ],
   "source": [
    "len(dataset_2994_5_args[0])"
   ]
  },
  {
   "cell_type": "code",
   "execution_count": 28,
   "metadata": {},
   "outputs": [
    {
     "data": {
      "text/plain": [
       "1"
      ]
     },
     "execution_count": 28,
     "metadata": {},
     "output_type": "execute_result"
    }
   ],
   "source": [
    "len(dataset_2994_5_args[1])"
   ]
  },
  {
   "cell_type": "code",
   "execution_count": 29,
   "metadata": {},
   "outputs": [
    {
     "data": {
      "text/plain": [
       "'8'"
      ]
     },
     "execution_count": 29,
     "metadata": {},
     "output_type": "execute_result"
    }
   ],
   "source": [
    "dataset_2994_5_args[1]"
   ]
  },
  {
   "cell_type": "code",
   "execution_count": 30,
   "metadata": {
    "collapsed": true
   },
   "outputs": [],
   "source": [
    "output_list = computing_frequencies(dataset_2994_5_args[0], int(dataset_2994_5_args[1]))"
   ]
  },
  {
   "cell_type": "code",
   "execution_count": 31,
   "metadata": {
    "collapsed": true
   },
   "outputs": [],
   "source": [
    "with open('answer.txt', 'w') as f:\n",
    "    f.write(' '.join([str(item) for item in output_list])) "
   ]
  },
  {
   "cell_type": "code",
   "execution_count": null,
   "metadata": {
    "collapsed": true
   },
   "outputs": [],
   "source": []
  }
 ],
 "metadata": {
  "kernelspec": {
   "display_name": "Python 2",
   "language": "python",
   "name": "python2"
  },
  "language_info": {
   "codemirror_mode": {
    "name": "ipython",
    "version": 2
   },
   "file_extension": ".py",
   "mimetype": "text/x-python",
   "name": "python",
   "nbconvert_exporter": "python",
   "pygments_lexer": "ipython2",
   "version": "2.7.6"
  }
 },
 "nbformat": 4,
 "nbformat_minor": 2
}
