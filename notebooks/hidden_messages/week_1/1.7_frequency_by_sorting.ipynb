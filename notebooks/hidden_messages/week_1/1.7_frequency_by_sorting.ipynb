{
 "cells": [
  {
   "cell_type": "markdown",
   "metadata": {},
   "source": [
    "# 1.7 CS: Finding Frequent Words by Sorting\n",
    "\n",
    "See https://stepik.org/lesson/3011/step/2?course=Stepic-Interactive-Text-for-Week-1&unit=8236\n",
    "\n",
    "I don't really get this and it has no test sets. I'll try to take a stab at the pseudo code and evaluate using the 1.5 test sets"
   ]
  },
  {
   "cell_type": "code",
   "execution_count": 1,
   "metadata": {
    "collapsed": true
   },
   "outputs": [],
   "source": [
    "def pattern_to_number(pattern_string):\n",
    "    \"\"\"Use recursion to calculate the index number of a kmer in the frequency array\n",
    "    \"\"\"\n",
    "    base_to_num = {\n",
    "        'A' : 0,\n",
    "        'C' : 1,\n",
    "        'G' : 2,\n",
    "        'T' : 3\n",
    "    }\n",
    "    if len(pattern_string) < 1:\n",
    "        return 0\n",
    "    last_char = pattern_string[-1]\n",
    "    minus_last_char = pattern_string[:-1]\n",
    "    output_int = 4 * pattern_to_number(minus_last_char) + base_to_num[last_char]\n",
    "    return output_int\n",
    "\n",
    "def number_to_pattern(index, k):\n",
    "    \"\"\"Use recursion to find an unambiguous DNA sequence from its index among same length kmers\n",
    "    \n",
    "    \"\"\"\n",
    "    k = int(k)\n",
    "    index = int(index)\n",
    "    max_index = int(math.pow(4,k))\n",
    "    if index > max_index:\n",
    "        raise ValueError(\"index must be less than 4^k\")\n",
    "    num_to_base = {\n",
    "        0 : 'A',\n",
    "        1 : 'C',\n",
    "        2 : 'G',\n",
    "        3 : 'T'\n",
    "    }\n",
    "    if k == 1:\n",
    "        return num_to_base[index]\n",
    "    prefix_index = index / 4\n",
    "    remainder = index % 4\n",
    "    last_base = num_to_base[remainder]\n",
    "    output_string = number_to_pattern(prefix_index, k - 1) + last_base\n",
    "    return output_string"
   ]
  },
  {
   "cell_type": "code",
   "execution_count": 2,
   "metadata": {
    "collapsed": true
   },
   "outputs": [],
   "source": [
    "from collections import defaultdict"
   ]
  },
  {
   "cell_type": "code",
   "execution_count": 13,
   "metadata": {
    "collapsed": true
   },
   "outputs": [],
   "source": [
    "import math"
   ]
  },
  {
   "cell_type": "code",
   "execution_count": 11,
   "metadata": {
    "collapsed": true
   },
   "outputs": [],
   "source": [
    "def find_frequent_pattern_by_sorting(text, k):\n",
    "    \"\"\"Use sorting and previous recursion functions to more efficiently find frequent patterns in text\n",
    "    \n",
    "    \"\"\"\n",
    "    k = int(k)\n",
    "    text = str(text)\n",
    "    text_length = len(text)\n",
    "    counter_dict = defaultdict(int)\n",
    "    for i in range(text_length - k):\n",
    "        pattern = text[i: i + k]\n",
    "        key = pattern_to_number(pattern)\n",
    "        counter_dict[key] += 1\n",
    "    max_count = max(counter_dict.values())\n",
    "    frequent_patterns = []\n",
    "    for item, count in counter_dict.iteritems():\n",
    "        if count == max_count:\n",
    "            frequent_patterns.append(number_to_pattern(item, k))\n",
    "    return frequent_patterns"
   ]
  },
  {
   "cell_type": "code",
   "execution_count": 14,
   "metadata": {},
   "outputs": [
    {
     "data": {
      "text/plain": [
       "['CATG', 'GCAT']"
      ]
     },
     "execution_count": 14,
     "metadata": {},
     "output_type": "execute_result"
    }
   ],
   "source": [
    "find_frequent_pattern_by_sorting('ACGTTGCATGTCGCATGATGCATGAGAGCT', 4)"
   ]
  },
  {
   "cell_type": "code",
   "execution_count": 15,
   "metadata": {
    "collapsed": true
   },
   "outputs": [],
   "source": [
    "def consume_test_txt_file(filename):\n",
    "    \"\"\"wrap frequently re-used text consumption code patterns into a helper function\n",
    "    \"\"\"\n",
    "    with open(filename, 'r') as f:\n",
    "        raw_text = f.read()\n",
    "    text_args = raw_text.splitlines()\n",
    "    return text_args"
   ]
  },
  {
   "cell_type": "code",
   "execution_count": 16,
   "metadata": {
    "collapsed": true
   },
   "outputs": [],
   "source": [
    "test_args = consume_test_txt_file('frequent_words.txt')"
   ]
  },
  {
   "cell_type": "code",
   "execution_count": 17,
   "metadata": {},
   "outputs": [
    {
     "ename": "TypeError",
     "evalue": "find_frequent_pattern_by_sorting() takes exactly 2 arguments (5 given)",
     "output_type": "error",
     "traceback": [
      "\u001b[0;31m---------------------------------------------------------------------------\u001b[0m",
      "\u001b[0;31mTypeError\u001b[0m                                 Traceback (most recent call last)",
      "\u001b[0;32m<ipython-input-17-3b83894dc6e5>\u001b[0m in \u001b[0;36m<module>\u001b[0;34m()\u001b[0m\n\u001b[0;32m----> 1\u001b[0;31m \u001b[0mfind_frequent_pattern_by_sorting\u001b[0m\u001b[0;34m(\u001b[0m\u001b[0;34m*\u001b[0m\u001b[0mtest_args\u001b[0m\u001b[0;34m)\u001b[0m\u001b[0;34m\u001b[0m\u001b[0m\n\u001b[0m",
      "\u001b[0;31mTypeError\u001b[0m: find_frequent_pattern_by_sorting() takes exactly 2 arguments (5 given)"
     ]
    }
   ],
   "source": [
    "find_frequent_pattern_by_sorting(*test_args)"
   ]
  },
  {
   "cell_type": "code",
   "execution_count": 18,
   "metadata": {},
   "outputs": [
    {
     "data": {
      "text/plain": [
       "[5, 463, 2, 6, 181]"
      ]
     },
     "execution_count": 18,
     "metadata": {},
     "output_type": "execute_result"
    }
   ],
   "source": [
    "[len(item) for item in test_args]"
   ]
  },
  {
   "cell_type": "code",
   "execution_count": 19,
   "metadata": {},
   "outputs": [
    {
     "data": {
      "text/plain": [
       "'Input'"
      ]
     },
     "execution_count": 19,
     "metadata": {},
     "output_type": "execute_result"
    }
   ],
   "source": [
    "test_args[0]"
   ]
  },
  {
   "cell_type": "code",
   "execution_count": 20,
   "metadata": {
    "collapsed": true
   },
   "outputs": [],
   "source": [
    "actual_output = find_frequent_pattern_by_sorting(test_args[1], test_args[2])"
   ]
  },
  {
   "cell_type": "code",
   "execution_count": 21,
   "metadata": {
    "collapsed": true
   },
   "outputs": [],
   "source": [
    "expected_output = test_args[4].split(' ')"
   ]
  },
  {
   "cell_type": "code",
   "execution_count": 22,
   "metadata": {},
   "outputs": [
    {
     "data": {
      "text/plain": [
       "True"
      ]
     },
     "execution_count": 22,
     "metadata": {},
     "output_type": "execute_result"
    }
   ],
   "source": [
    "set(actual_output) == set(expected_output)"
   ]
  },
  {
   "cell_type": "code",
   "execution_count": 23,
   "metadata": {},
   "outputs": [
    {
     "data": {
      "text/plain": [
       "['GGCGGGAGATTC',\n",
       " 'CGTGGCGTGCGG',\n",
       " 'CGGCGGGAGATT',\n",
       " 'GGAGAAGCGAGA',\n",
       " 'CGTGCGGCGGGA',\n",
       " 'CGTGGAGGCGTG',\n",
       " 'GCGTGGAGGCGT',\n",
       " 'GTGCGGCGGGAG',\n",
       " 'GCGTGGCGTGCG',\n",
       " 'GCGTGCGGCGGG',\n",
       " 'TGCGGCGGGAGA',\n",
       " 'GGAGATTCAAGC',\n",
       " 'GGGAGATTCAAG',\n",
       " 'CGGGAGATTCAA']"
      ]
     },
     "execution_count": 23,
     "metadata": {},
     "output_type": "execute_result"
    }
   ],
   "source": [
    "actual_output"
   ]
  },
  {
   "cell_type": "code",
   "execution_count": 24,
   "metadata": {},
   "outputs": [
    {
     "data": {
      "text/plain": [
       "['GTG']"
      ]
     },
     "execution_count": 24,
     "metadata": {},
     "output_type": "execute_result"
    }
   ],
   "source": [
    "find_frequent_pattern_by_sorting('TAAACGTGAGAGAAACGTGCTGATTACACTTGTTCGTGTGGTAT', 3)"
   ]
  }
 ],
 "metadata": {
  "kernelspec": {
   "display_name": "Python 2",
   "language": "python",
   "name": "python2"
  },
  "language_info": {
   "codemirror_mode": {
    "name": "ipython",
    "version": 2
   },
   "file_extension": ".py",
   "mimetype": "text/x-python",
   "name": "python",
   "nbconvert_exporter": "python",
   "pygments_lexer": "ipython2",
   "version": "2.7.6"
  }
 },
 "nbformat": 4,
 "nbformat_minor": 2
}
