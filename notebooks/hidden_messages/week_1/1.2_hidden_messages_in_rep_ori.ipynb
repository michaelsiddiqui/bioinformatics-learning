{
 "cells": [
  {
   "cell_type": "markdown",
   "metadata": {},
   "source": [
    "## Pattern Count Exercise \"Hidden Messages\"\n",
    "\n",
    "Writing code in interactive Jupyter notebook here in response to prompts for the Stepik lesson sections of the UCSD Bioinformatics MOOC course. Will use the in-page example problems for validation of functions defined and executed here.\n",
    "\n",
    "For context on the content here see https://stepik.org/lesson/2/step/1?unit=8231\n"
   ]
  },
  {
   "cell_type": "code",
   "execution_count": 2,
   "metadata": {
    "collapsed": true
   },
   "outputs": [],
   "source": [
    "with open('PatternCount.txt', 'r') as f:\n",
    "    practice_text = f.read()"
   ]
  },
  {
   "cell_type": "code",
   "execution_count": 3,
   "metadata": {},
   "outputs": [
    {
     "data": {
      "text/plain": [
       "9685"
      ]
     },
     "execution_count": 3,
     "metadata": {},
     "output_type": "execute_result"
    }
   ],
   "source": [
    "len(practice_text)"
   ]
  },
  {
   "cell_type": "code",
   "execution_count": 4,
   "metadata": {
    "collapsed": true
   },
   "outputs": [],
   "source": [
    "from collections import Counter"
   ]
  },
  {
   "cell_type": "code",
   "execution_count": 5,
   "metadata": {
    "collapsed": true
   },
   "outputs": [],
   "source": [
    "text_by_line = practice_text.splitlines()"
   ]
  },
  {
   "cell_type": "code",
   "execution_count": 6,
   "metadata": {},
   "outputs": [
    {
     "data": {
      "text/plain": [
       "5"
      ]
     },
     "execution_count": 6,
     "metadata": {},
     "output_type": "execute_result"
    }
   ],
   "source": [
    "len(text_by_line)"
   ]
  },
  {
   "cell_type": "code",
   "execution_count": 7,
   "metadata": {},
   "outputs": [
    {
     "data": {
      "text/plain": [
       "'Input'"
      ]
     },
     "execution_count": 7,
     "metadata": {},
     "output_type": "execute_result"
    }
   ],
   "source": [
    "text_by_line[0]"
   ]
  },
  {
   "cell_type": "code",
   "execution_count": 8,
   "metadata": {},
   "outputs": [
    {
     "data": {
      "text/plain": [
       "9652"
      ]
     },
     "execution_count": 8,
     "metadata": {},
     "output_type": "execute_result"
    }
   ],
   "source": [
    "len(text_by_line[1])"
   ]
  },
  {
   "cell_type": "code",
   "execution_count": 9,
   "metadata": {},
   "outputs": [
    {
     "data": {
      "text/plain": [
       "['AGCCTTTAG', 'Output', '294']"
      ]
     },
     "execution_count": 9,
     "metadata": {},
     "output_type": "execute_result"
    }
   ],
   "source": [
    "text_by_line[2:]"
   ]
  },
  {
   "cell_type": "markdown",
   "metadata": {},
   "source": [
    "## Attempt to translate pseudo code to `pattern_count` function in Python 2.7\n",
    "\n",
    "See https://stepik.org/lesson/2/step/7?unit=8231\n",
    "\n",
    "for context. takes me a few iterations below\n",
    "\n",
    "### Pseudocode from page\n",
    "\n",
    "```\n",
    "    PatternCount(Text, Pattern)\n",
    "        count ← 0\n",
    "        for i ← 0 to |Text| − |Pattern|\n",
    "            if Text(i, |Pattern|) = Pattern\n",
    "                count ← count + 1\n",
    "        return count\n",
    "        \n",
    "```"
   ]
  },
  {
   "cell_type": "code",
   "execution_count": 1,
   "metadata": {
    "collapsed": true
   },
   "outputs": [],
   "source": [
    "# define the function that the exercise wants me to create here\n",
    "def pattern_count(input_text, pattern):\n",
    "    \"\"\"practice function for bioinformatics MOOC\n",
    "    \"\"\"\n",
    "    count = 0\n",
    "    pattern_length = len(pattern)\n",
    "    diff_length = len(input_text) - pattern_length\n",
    "    for i in range(diff_length):\n",
    "        if input_text[i:pattern_length] == pattern:\n",
    "            count += 1\n",
    "    return count"
   ]
  },
  {
   "cell_type": "code",
   "execution_count": 13,
   "metadata": {
    "collapsed": true
   },
   "outputs": [],
   "source": [
    "test_pattern = text_by_line[2]"
   ]
  },
  {
   "cell_type": "code",
   "execution_count": 14,
   "metadata": {},
   "outputs": [
    {
     "data": {
      "text/plain": [
       "'AGCCTTTAG'"
      ]
     },
     "execution_count": 14,
     "metadata": {},
     "output_type": "execute_result"
    }
   ],
   "source": [
    "test_pattern"
   ]
  },
  {
   "cell_type": "code",
   "execution_count": 15,
   "metadata": {
    "collapsed": true
   },
   "outputs": [],
   "source": [
    "test_input = text_by_line[1]"
   ]
  },
  {
   "cell_type": "code",
   "execution_count": 16,
   "metadata": {},
   "outputs": [
    {
     "data": {
      "text/plain": [
       "0"
      ]
     },
     "execution_count": 16,
     "metadata": {},
     "output_type": "execute_result"
    }
   ],
   "source": [
    "pattern_count(test_input, test_pattern)"
   ]
  },
  {
   "cell_type": "code",
   "execution_count": 17,
   "metadata": {},
   "outputs": [
    {
     "data": {
      "text/plain": [
       "[0, 1, 2, 3]"
      ]
     },
     "execution_count": 17,
     "metadata": {},
     "output_type": "execute_result"
    }
   ],
   "source": [
    "range(4)"
   ]
  },
  {
   "cell_type": "code",
   "execution_count": 18,
   "metadata": {
    "collapsed": true
   },
   "outputs": [],
   "source": [
    "test_num = 0"
   ]
  },
  {
   "cell_type": "code",
   "execution_count": 19,
   "metadata": {},
   "outputs": [
    {
     "data": {
      "text/plain": [
       "0"
      ]
     },
     "execution_count": 19,
     "metadata": {},
     "output_type": "execute_result"
    }
   ],
   "source": [
    "test_num"
   ]
  },
  {
   "cell_type": "code",
   "execution_count": 20,
   "metadata": {
    "collapsed": true
   },
   "outputs": [],
   "source": [
    "test_num += 1"
   ]
  },
  {
   "cell_type": "code",
   "execution_count": 21,
   "metadata": {},
   "outputs": [
    {
     "data": {
      "text/plain": [
       "1"
      ]
     },
     "execution_count": 21,
     "metadata": {},
     "output_type": "execute_result"
    }
   ],
   "source": [
    "test_num"
   ]
  },
  {
   "cell_type": "code",
   "execution_count": 22,
   "metadata": {
    "collapsed": true
   },
   "outputs": [],
   "source": [
    "pattern_length = len(test_pattern)"
   ]
  },
  {
   "cell_type": "code",
   "execution_count": 23,
   "metadata": {},
   "outputs": [
    {
     "data": {
      "text/plain": [
       "9"
      ]
     },
     "execution_count": 23,
     "metadata": {},
     "output_type": "execute_result"
    }
   ],
   "source": [
    "pattern_length"
   ]
  },
  {
   "cell_type": "code",
   "execution_count": 24,
   "metadata": {},
   "outputs": [
    {
     "data": {
      "text/plain": [
       "9643"
      ]
     },
     "execution_count": 24,
     "metadata": {},
     "output_type": "execute_result"
    }
   ],
   "source": [
    "len(test_input) - pattern_length"
   ]
  },
  {
   "cell_type": "code",
   "execution_count": 25,
   "metadata": {},
   "outputs": [
    {
     "data": {
      "text/plain": [
       "[9639, 9640, 9641, 9642]"
      ]
     },
     "execution_count": 25,
     "metadata": {},
     "output_type": "execute_result"
    }
   ],
   "source": [
    "range(len(test_input) - pattern_length)[-4:]"
   ]
  },
  {
   "cell_type": "code",
   "execution_count": 26,
   "metadata": {
    "collapsed": true
   },
   "outputs": [],
   "source": [
    "# define the function that the exercise wants me to create here\n",
    "def pattern_count(input_text, pattern):\n",
    "    \"\"\"practice function for bioinformatics MOOC\n",
    "    \"\"\"\n",
    "    count = 0\n",
    "    pattern_length = len(pattern)\n",
    "    diff_length = len(input_text) - pattern_length\n",
    "    for i in range(diff_length):\n",
    "        end = i + pattern_length\n",
    "        window_text = input_text[i:end]\n",
    "        if window_text == pattern:\n",
    "            count += 1\n",
    "    return count"
   ]
  },
  {
   "cell_type": "code",
   "execution_count": 27,
   "metadata": {},
   "outputs": [
    {
     "data": {
      "text/plain": [
       "294"
      ]
     },
     "execution_count": 27,
     "metadata": {},
     "output_type": "execute_result"
    }
   ],
   "source": [
    "pattern_count(test_input, test_pattern)"
   ]
  },
  {
   "cell_type": "code",
   "execution_count": 28,
   "metadata": {},
   "outputs": [
    {
     "data": {
      "text/plain": [
       "1"
      ]
     },
     "execution_count": 28,
     "metadata": {},
     "output_type": "execute_result"
    }
   ],
   "source": [
    "pattern_count('GCGCG', 'GCG')"
   ]
  },
  {
   "cell_type": "code",
   "execution_count": 29,
   "metadata": {},
   "outputs": [
    {
     "data": {
      "text/plain": [
       "5"
      ]
     },
     "execution_count": 29,
     "metadata": {},
     "output_type": "execute_result"
    }
   ],
   "source": [
    "len('GCGCG')"
   ]
  },
  {
   "cell_type": "code",
   "execution_count": 30,
   "metadata": {},
   "outputs": [
    {
     "data": {
      "text/plain": [
       "3"
      ]
     },
     "execution_count": 30,
     "metadata": {},
     "output_type": "execute_result"
    }
   ],
   "source": [
    "len('GCG')"
   ]
  },
  {
   "cell_type": "code",
   "execution_count": 31,
   "metadata": {},
   "outputs": [
    {
     "name": "stdout",
     "output_type": "stream",
     "text": [
      "True\n",
      "False\n"
     ]
    }
   ],
   "source": [
    "for i in range(2):\n",
    "    end = i + 3\n",
    "    window_text = 'GCGCG'[i:end]\n",
    "    print window_text == 'GCG'"
   ]
  },
  {
   "cell_type": "code",
   "execution_count": 3,
   "metadata": {
    "collapsed": true
   },
   "outputs": [],
   "source": [
    "# define the function that the exercise wants me to create here\n",
    "def pattern_count(input_text, pattern):\n",
    "    \"\"\"practice function for bioinformatics MOOC\n",
    "    \"\"\"\n",
    "    count = 0\n",
    "    pattern_length = len(pattern)\n",
    "    diff_length = len(input_text) - pattern_length\n",
    "    for i in range(diff_length + 1):\n",
    "        end = i + pattern_length\n",
    "        window_text = input_text[i:end]\n",
    "        if window_text == pattern:\n",
    "            count += 1\n",
    "    return count"
   ]
  },
  {
   "cell_type": "code",
   "execution_count": 4,
   "metadata": {},
   "outputs": [
    {
     "data": {
      "text/plain": [
       "5"
      ]
     },
     "execution_count": 4,
     "metadata": {},
     "output_type": "execute_result"
    }
   ],
   "source": [
    "pattern_count('CGCGATACGTTACATACATGATAGACCGCGCGCGATCATATCGCGATTATC', 'CGCG')"
   ]
  },
  {
   "cell_type": "code",
   "execution_count": 34,
   "metadata": {},
   "outputs": [
    {
     "data": {
      "text/plain": [
       "2"
      ]
     },
     "execution_count": 34,
     "metadata": {},
     "output_type": "execute_result"
    }
   ],
   "source": [
    "pattern_count('GCGCG', 'GCG')"
   ]
  },
  {
   "cell_type": "code",
   "execution_count": 35,
   "metadata": {
    "collapsed": true
   },
   "outputs": [],
   "source": [
    "solve_txt = 'ACCAACGATTTTGGACCAACGACGCCATTATACCAACGGACCAACGGTAAACCAACGGACACCAACGTTACCAACGTACCAACGGACCAACGAAACCAACGCGCACCAACGTACCAACGTACCGTTACCAACGACCAACGATCACCAACGACCAACGACCAACGCGACCAACGGACCAACGATCGCGACCAACGGAACCAACGTCACCAACGACCAACGGACCAACGACCAACGAAACCAACGCGTCAAACACCACTTTACCAACGCTACCCCGTTAACCAACGACCAACGCCGGACCAACGCGTTGCACCAACGACCAACGCTGCATACACCAACGACGGATACCAACGGACCAACGTTGAGCAACCAACGGACCAACGACCAACGTACCAACGGCGACCAACGAGACCAACGGCACCAACGACCAACGATACCAACGTACCAACGTAACCAACGAACCAACGCGGGCACCAACGACCAACGGTGACCAACGCGGTAACCAACGACCAACGTATACCAACGAACCAACGGACCAACGCGGATTCACCAACGAGACCAACGGTTAACCAACGATGTTCAGTACCAACGCTAACCAACGACCAACGACCAACGACCAACGCACCAACGACCAACGACCAACGCCTTAATACCAACGCCGACCAACGGTGACTACCAACGTTACCAACGACCAACGCAAAACCAACGACCAACGTTTCCGTGTCACCAACGCACTACCAACGGCATTCACCAACGACCAACGACCAACGACCAACGATAACCAACGAACCAACGCACCAACGAACCAACGCAGATTATCACCAACGAAGTAACATGACCACCAACGCGGCTTCAACCAACGCGACCAACGCGTGAGCCCACCAACGGAAAACCAACGACCAACGACCAACGAACCAACGACCAACGACCAACGACCAACGGGACG'"
   ]
  },
  {
   "cell_type": "code",
   "execution_count": 36,
   "metadata": {
    "collapsed": true
   },
   "outputs": [],
   "source": [
    "solve_pattern = 'ACCAACGAC'"
   ]
  },
  {
   "cell_type": "code",
   "execution_count": 37,
   "metadata": {},
   "outputs": [
    {
     "data": {
      "text/plain": [
       "28"
      ]
     },
     "execution_count": 37,
     "metadata": {},
     "output_type": "execute_result"
    }
   ],
   "source": [
    "pattern_count(solve_txt, solve_pattern)"
   ]
  },
  {
   "cell_type": "markdown",
   "metadata": {},
   "source": [
    "## Kmer Frequencey Problem \"Hidden Messages\"\n",
    "\n",
    "See https://stepik.org/lesson/2/step/10?unit=8231\n",
    "\n",
    "for context"
   ]
  },
  {
   "cell_type": "code",
   "execution_count": 38,
   "metadata": {
    "collapsed": true
   },
   "outputs": [],
   "source": [
    "def frequent_kmers(input_text, k):\n",
    "    \"\"\"practice function for bioinformatics MOOC\n",
    "    \"\"\"\n",
    "    diff_length = len(input_text) - k\n",
    "    kmer_list = []\n",
    "    for i in range(diff_length + 1):\n",
    "        kmer_list.append(input_text[i:k])\n",
    "    kmer_frequency = Counter(kmer_list)\n",
    "    return kmer_frequency"
   ]
  },
  {
   "cell_type": "code",
   "execution_count": 40,
   "metadata": {},
   "outputs": [
    {
     "data": {
      "text/plain": [
       "Counter({'': 10, 'ACT': 1, 'CT': 1, 'T': 1})"
      ]
     },
     "execution_count": 40,
     "metadata": {},
     "output_type": "execute_result"
    }
   ],
   "source": [
    "frequent_kmers('ACTGACTCCCACCCC', 3)"
   ]
  },
  {
   "cell_type": "code",
   "execution_count": 41,
   "metadata": {
    "collapsed": true
   },
   "outputs": [],
   "source": [
    "def frequent_kmers(input_text, k):\n",
    "    \"\"\"practice function for bioinformatics MOOC\n",
    "    \"\"\"\n",
    "    diff_length = len(input_text) - k\n",
    "    kmer_list = []\n",
    "    for i in range(diff_length + 1):\n",
    "        kmer_list.append(input_text[i: i + k])\n",
    "    kmer_frequency = Counter(kmer_list)\n",
    "    return kmer_frequency"
   ]
  },
  {
   "cell_type": "code",
   "execution_count": 42,
   "metadata": {},
   "outputs": [
    {
     "data": {
      "text/plain": [
       "Counter({'ACC': 1,\n",
       "         'ACT': 2,\n",
       "         'CAC': 1,\n",
       "         'CCA': 1,\n",
       "         'CCC': 3,\n",
       "         'CTC': 1,\n",
       "         'CTG': 1,\n",
       "         'GAC': 1,\n",
       "         'TCC': 1,\n",
       "         'TGA': 1})"
      ]
     },
     "execution_count": 42,
     "metadata": {},
     "output_type": "execute_result"
    }
   ],
   "source": [
    "frequent_kmers('ACTGACTCCCACCCC', 3)"
   ]
  },
  {
   "cell_type": "code",
   "execution_count": 43,
   "metadata": {
    "collapsed": true
   },
   "outputs": [],
   "source": [
    "def most_frequent_kmers(input_text, k):\n",
    "    \"\"\"list the most frequent kmers in an input text\n",
    "    \n",
    "    use the `frequent_kmers` function to get Counter object\n",
    "    use most_common() method and then return all keys with values\n",
    "    equal to the value of the most_common element\"\"\"\n",
    "    kmer_frequency = frequent_kmers(input_text, k)\n",
    "    most_freq = kmer_frequency.most_common(1)\n",
    "    high_count = most_freq[1]\n",
    "    list_most_frequent_kmers = [\n",
    "        key for key, val in kmer_frequency.iteritems() if val == high_count \n",
    "    ]\n",
    "    return list_most_frequent_kmers"
   ]
  },
  {
   "cell_type": "code",
   "execution_count": 44,
   "metadata": {},
   "outputs": [
    {
     "ename": "IndexError",
     "evalue": "list index out of range",
     "output_type": "error",
     "traceback": [
      "\u001b[0;31m---------------------------------------------------------------------------\u001b[0m",
      "\u001b[0;31mIndexError\u001b[0m                                Traceback (most recent call last)",
      "\u001b[0;32m<ipython-input-44-b7b2bfb266b1>\u001b[0m in \u001b[0;36m<module>\u001b[0;34m()\u001b[0m\n\u001b[0;32m----> 1\u001b[0;31m \u001b[0mmost_frequent_kmers\u001b[0m\u001b[0;34m(\u001b[0m\u001b[0;34m'ACGTTGCATGTCGCATGATGCATGAGAGCT'\u001b[0m\u001b[0;34m,\u001b[0m \u001b[0;36m4\u001b[0m\u001b[0;34m)\u001b[0m\u001b[0;34m\u001b[0m\u001b[0m\n\u001b[0m",
      "\u001b[0;32m<ipython-input-43-696303db8664>\u001b[0m in \u001b[0;36mmost_frequent_kmers\u001b[0;34m(input_text, k)\u001b[0m\n\u001b[1;32m      7\u001b[0m     \u001b[0mkmer_frequency\u001b[0m \u001b[0;34m=\u001b[0m \u001b[0mfrequent_kmers\u001b[0m\u001b[0;34m(\u001b[0m\u001b[0minput_text\u001b[0m\u001b[0;34m,\u001b[0m \u001b[0mk\u001b[0m\u001b[0;34m)\u001b[0m\u001b[0;34m\u001b[0m\u001b[0m\n\u001b[1;32m      8\u001b[0m     \u001b[0mmost_freq\u001b[0m \u001b[0;34m=\u001b[0m \u001b[0mkmer_frequency\u001b[0m\u001b[0;34m.\u001b[0m\u001b[0mmost_common\u001b[0m\u001b[0;34m(\u001b[0m\u001b[0;36m1\u001b[0m\u001b[0;34m)\u001b[0m\u001b[0;34m\u001b[0m\u001b[0m\n\u001b[0;32m----> 9\u001b[0;31m     \u001b[0mhigh_count\u001b[0m \u001b[0;34m=\u001b[0m \u001b[0mmost_freq\u001b[0m\u001b[0;34m[\u001b[0m\u001b[0;36m1\u001b[0m\u001b[0;34m]\u001b[0m\u001b[0;34m\u001b[0m\u001b[0m\n\u001b[0m\u001b[1;32m     10\u001b[0m     list_most_frequent_kmers = [\n\u001b[1;32m     11\u001b[0m         \u001b[0mkey\u001b[0m \u001b[0;32mfor\u001b[0m \u001b[0mkey\u001b[0m\u001b[0;34m,\u001b[0m \u001b[0mval\u001b[0m \u001b[0;32min\u001b[0m \u001b[0mkmer_frequency\u001b[0m\u001b[0;34m.\u001b[0m\u001b[0miteritems\u001b[0m\u001b[0;34m(\u001b[0m\u001b[0;34m)\u001b[0m \u001b[0;32mif\u001b[0m \u001b[0mval\u001b[0m \u001b[0;34m==\u001b[0m \u001b[0mhigh_count\u001b[0m\u001b[0;34m\u001b[0m\u001b[0m\n",
      "\u001b[0;31mIndexError\u001b[0m: list index out of range"
     ]
    }
   ],
   "source": [
    "most_frequent_kmers('ACGTTGCATGTCGCATGATGCATGAGAGCT', 4)"
   ]
  },
  {
   "cell_type": "code",
   "execution_count": 45,
   "metadata": {
    "collapsed": true
   },
   "outputs": [],
   "source": [
    "def most_frequent_kmers(input_text, k):\n",
    "    \"\"\"list the most frequent kmers in an input text\n",
    "    \n",
    "    use the `frequent_kmers` function to get Counter object\n",
    "    use most_common() method and then return all keys with values\n",
    "    equal to the value of the most_common element\"\"\"\n",
    "    kmer_frequency = frequent_kmers(input_text, k)\n",
    "    most_freq = kmer_frequency.most_common(1)\n",
    "    high_count = most_freq[0][1] # list of tuples, want second element from only tuple\n",
    "    list_most_frequent_kmers = [\n",
    "        key for key, val in kmer_frequency.iteritems() if val == high_count \n",
    "    ]\n",
    "    return list_most_frequent_kmers"
   ]
  },
  {
   "cell_type": "code",
   "execution_count": 46,
   "metadata": {},
   "outputs": [
    {
     "data": {
      "text/plain": [
       "['CATG', 'GCAT']"
      ]
     },
     "execution_count": 46,
     "metadata": {},
     "output_type": "execute_result"
    }
   ],
   "source": [
    "most_frequent_kmers('ACGTTGCATGTCGCATGATGCATGAGAGCT', 4)"
   ]
  },
  {
   "cell_type": "code",
   "execution_count": 47,
   "metadata": {
    "collapsed": true
   },
   "outputs": [],
   "source": [
    "with open('frequent_words.txt', 'r') as f:\n",
    "    kmer_freq_text = f.read()"
   ]
  },
  {
   "cell_type": "code",
   "execution_count": 48,
   "metadata": {
    "collapsed": true
   },
   "outputs": [],
   "source": [
    "inputs_text = kmer_freq_text.splitlines()"
   ]
  },
  {
   "cell_type": "code",
   "execution_count": 49,
   "metadata": {},
   "outputs": [
    {
     "data": {
      "text/plain": [
       "'12'"
      ]
     },
     "execution_count": 49,
     "metadata": {},
     "output_type": "execute_result"
    }
   ],
   "source": [
    "inputs_text[2]"
   ]
  },
  {
   "cell_type": "code",
   "execution_count": 52,
   "metadata": {
    "collapsed": true
   },
   "outputs": [],
   "source": [
    "expected_output = inputs_text[-1].split(' ')"
   ]
  },
  {
   "cell_type": "code",
   "execution_count": 53,
   "metadata": {},
   "outputs": [
    {
     "data": {
      "text/plain": [
       "['CGGCGGGAGATT',\n",
       " 'CGGGAGATTCAA',\n",
       " 'CGTGCGGCGGGA',\n",
       " 'CGTGGAGGCGTG',\n",
       " 'CGTGGCGTGCGG',\n",
       " 'GCGTGCGGCGGG',\n",
       " 'GCGTGGAGGCGT',\n",
       " 'GCGTGGCGTGCG',\n",
       " 'GGAGAAGCGAGA',\n",
       " 'GGAGATTCAAGC',\n",
       " 'GGCGGGAGATTC',\n",
       " 'GGGAGATTCAAG',\n",
       " 'GTGCGGCGGGAG',\n",
       " 'TGCGGCGGGAGA']"
      ]
     },
     "execution_count": 53,
     "metadata": {},
     "output_type": "execute_result"
    }
   ],
   "source": [
    "expected_output"
   ]
  },
  {
   "cell_type": "code",
   "execution_count": 54,
   "metadata": {},
   "outputs": [
    {
     "data": {
      "text/plain": [
       "['GTGCGGCGGGAG',\n",
       " 'CGGCGGGAGATT',\n",
       " 'GGAGATTCAAGC',\n",
       " 'GCGTGCGGCGGG',\n",
       " 'GGCGGGAGATTC',\n",
       " 'CGTGGAGGCGTG',\n",
       " 'CGTGCGGCGGGA',\n",
       " 'TGCGGCGGGAGA',\n",
       " 'GCGTGGCGTGCG',\n",
       " 'CGTGGCGTGCGG',\n",
       " 'GCGTGGAGGCGT',\n",
       " 'CGGGAGATTCAA',\n",
       " 'GGAGAAGCGAGA',\n",
       " 'GGGAGATTCAAG']"
      ]
     },
     "execution_count": 54,
     "metadata": {},
     "output_type": "execute_result"
    }
   ],
   "source": [
    "most_frequent_kmers(inputs_text[1], int(inputs_text[2]))"
   ]
  },
  {
   "cell_type": "code",
   "execution_count": 55,
   "metadata": {
    "collapsed": true
   },
   "outputs": [],
   "source": [
    "actual_output = most_frequent_kmers(inputs_text[1], int(inputs_text[2]))"
   ]
  },
  {
   "cell_type": "code",
   "execution_count": 56,
   "metadata": {},
   "outputs": [
    {
     "data": {
      "text/plain": [
       "True"
      ]
     },
     "execution_count": 56,
     "metadata": {},
     "output_type": "execute_result"
    }
   ],
   "source": [
    "set(expected_output) == set(actual_output)"
   ]
  },
  {
   "cell_type": "code",
   "execution_count": 57,
   "metadata": {
    "collapsed": true
   },
   "outputs": [],
   "source": [
    "with open('dataset_2_10.txt', 'r') as f:\n",
    "    test_inputs = f.read()"
   ]
  },
  {
   "cell_type": "code",
   "execution_count": 58,
   "metadata": {
    "collapsed": true
   },
   "outputs": [],
   "source": [
    "split_inputs = test_inputs.splitlines()"
   ]
  },
  {
   "cell_type": "code",
   "execution_count": 61,
   "metadata": {
    "collapsed": true
   },
   "outputs": [],
   "source": [
    "output = most_frequent_kmers(split_inputs[0], int(split_inputs[1]))"
   ]
  },
  {
   "cell_type": "code",
   "execution_count": 62,
   "metadata": {},
   "outputs": [
    {
     "name": "stdout",
     "output_type": "stream",
     "text": [
      "CACCACATTGCAC ATTGCACCACATT ACCACATTGCACC CATTGCACCACAT ACATTGCACCACA CACATTGCACCAC GCACCACATTGCA CCACATTGCACCA TGCACCACATTGC\n"
     ]
    }
   ],
   "source": [
    "print ' '.join(output)"
   ]
  },
  {
   "cell_type": "markdown",
   "metadata": {},
   "source": [
    "## Frequency array discussion problem\n",
    "\n",
    "Optional side thingy -- below is actually from \"Charging Station\" (1.5) lesson later in text... a bit confusing. I got stuck below, will pick it back up when I re-visit the lesson in the overall order of the course."
   ]
  },
  {
   "cell_type": "code",
   "execution_count": 63,
   "metadata": {
    "collapsed": true
   },
   "outputs": [],
   "source": [
    "import itertools"
   ]
  },
  {
   "cell_type": "code",
   "execution_count": 75,
   "metadata": {},
   "outputs": [
    {
     "data": {
      "text/plain": [
       "['AA',\n",
       " 'AC',\n",
       " 'AG',\n",
       " 'AT',\n",
       " 'CA',\n",
       " 'CC',\n",
       " 'CG',\n",
       " 'CT',\n",
       " 'GA',\n",
       " 'GC',\n",
       " 'GG',\n",
       " 'GT',\n",
       " 'TA',\n",
       " 'TC',\n",
       " 'TG',\n",
       " 'TT']"
      ]
     },
     "execution_count": 75,
     "metadata": {},
     "output_type": "execute_result"
    }
   ],
   "source": [
    "[''.join(item) for item in itertools.product(['A', 'C', 'G', 'T'], repeat=2)]"
   ]
  },
  {
   "cell_type": "code",
   "execution_count": 76,
   "metadata": {
    "collapsed": true
   },
   "outputs": [],
   "source": [
    "def gen_freq_array_index(input_string):\n",
    "    \"\"\"Generate a frequency array index from an input string\n",
    "    \n",
    "    Assume IUPAC unambiguous characters. Use cast to upper\"\"\"\n",
    "    length = len(input_string)\n",
    "    accepted_chars = set('ATCG')\n",
    "    array_string = input_string.upper()\n",
    "    if set(array_string) != accepted_chars:\n",
    "        raise ValueError(\"expect IUPAC non-ambiguous DNA characters in input\")\n",
    "    iter_object = itertools.product(list(accepted_chars), repeat=length)\n",
    "    string_list = [''.join(item) for item in iter_object]\n",
    "    string_dict = {\n",
    "        item: i for i, item in enumerate(string_list)\n",
    "    }\n",
    "    return string_dict\n",
    "    "
   ]
  },
  {
   "cell_type": "code",
   "execution_count": 77,
   "metadata": {},
   "outputs": [
    {
     "ename": "ValueError",
     "evalue": "expect IUPAC non-ambiguous DNA characters in input",
     "output_type": "error",
     "traceback": [
      "\u001b[0;31m---------------------------------------------------------------------------\u001b[0m",
      "\u001b[0;31mValueError\u001b[0m                                Traceback (most recent call last)",
      "\u001b[0;32m<ipython-input-77-0d312fc96cf9>\u001b[0m in \u001b[0;36m<module>\u001b[0;34m()\u001b[0m\n\u001b[0;32m----> 1\u001b[0;31m \u001b[0mgen_freq_array_index\u001b[0m\u001b[0;34m(\u001b[0m\u001b[0;34m'GT'\u001b[0m\u001b[0;34m)\u001b[0m\u001b[0;34m\u001b[0m\u001b[0m\n\u001b[0m",
      "\u001b[0;32m<ipython-input-76-541353ff292f>\u001b[0m in \u001b[0;36mgen_freq_array_index\u001b[0;34m(input_string)\u001b[0m\n\u001b[1;32m      7\u001b[0m     \u001b[0marray_string\u001b[0m \u001b[0;34m=\u001b[0m \u001b[0minput_string\u001b[0m\u001b[0;34m.\u001b[0m\u001b[0mupper\u001b[0m\u001b[0;34m(\u001b[0m\u001b[0;34m)\u001b[0m\u001b[0;34m\u001b[0m\u001b[0m\n\u001b[1;32m      8\u001b[0m     \u001b[0;32mif\u001b[0m \u001b[0mset\u001b[0m\u001b[0;34m(\u001b[0m\u001b[0marray_string\u001b[0m\u001b[0;34m)\u001b[0m \u001b[0;34m!=\u001b[0m \u001b[0maccepted_chars\u001b[0m\u001b[0;34m:\u001b[0m\u001b[0;34m\u001b[0m\u001b[0m\n\u001b[0;32m----> 9\u001b[0;31m         \u001b[0;32mraise\u001b[0m \u001b[0mValueError\u001b[0m\u001b[0;34m(\u001b[0m\u001b[0;34m\"expect IUPAC non-ambiguous DNA characters in input\"\u001b[0m\u001b[0;34m)\u001b[0m\u001b[0;34m\u001b[0m\u001b[0m\n\u001b[0m\u001b[1;32m     10\u001b[0m     \u001b[0miter_object\u001b[0m \u001b[0;34m=\u001b[0m \u001b[0mitertools\u001b[0m\u001b[0;34m.\u001b[0m\u001b[0mproduct\u001b[0m\u001b[0;34m(\u001b[0m\u001b[0mlist\u001b[0m\u001b[0;34m(\u001b[0m\u001b[0maccepted_chars\u001b[0m\u001b[0;34m)\u001b[0m\u001b[0;34m,\u001b[0m \u001b[0mrepeat\u001b[0m\u001b[0;34m=\u001b[0m\u001b[0mlength\u001b[0m\u001b[0;34m)\u001b[0m\u001b[0;34m\u001b[0m\u001b[0m\n\u001b[1;32m     11\u001b[0m     \u001b[0mstring_list\u001b[0m \u001b[0;34m=\u001b[0m \u001b[0;34m[\u001b[0m\u001b[0;34m''\u001b[0m\u001b[0;34m.\u001b[0m\u001b[0mjoin\u001b[0m\u001b[0;34m(\u001b[0m\u001b[0mitem\u001b[0m\u001b[0;34m)\u001b[0m \u001b[0;32mfor\u001b[0m \u001b[0mitem\u001b[0m \u001b[0;32min\u001b[0m \u001b[0miter_object\u001b[0m\u001b[0;34m]\u001b[0m\u001b[0;34m\u001b[0m\u001b[0m\n",
      "\u001b[0;31mValueError\u001b[0m: expect IUPAC non-ambiguous DNA characters in input"
     ]
    }
   ],
   "source": [
    "gen_freq_array_index('GT')"
   ]
  },
  {
   "cell_type": "code",
   "execution_count": 78,
   "metadata": {
    "collapsed": true
   },
   "outputs": [],
   "source": [
    "def gen_freq_array_index(input_string):\n",
    "    \"\"\"Generate a frequency array index from an input string\n",
    "    \n",
    "    Assume IUPAC unambiguous characters. Use cast to upper\"\"\"\n",
    "    length = len(input_string)\n",
    "    accepted_chars = set('ATCG')\n",
    "    array_string = input_string.upper()\n",
    "    if not set(array_string) - accepted_chars:\n",
    "        raise ValueError(\"expect IUPAC non-ambiguous DNA characters in input\")\n",
    "    iter_object = itertools.product(list(accepted_chars), repeat=length)\n",
    "    string_list = [''.join(item) for item in iter_object]\n",
    "    string_dict = {\n",
    "        item: i for i, item in enumerate(string_list)\n",
    "    }\n",
    "    return string_dict\n",
    "    "
   ]
  },
  {
   "cell_type": "code",
   "execution_count": 79,
   "metadata": {},
   "outputs": [
    {
     "ename": "ValueError",
     "evalue": "expect IUPAC non-ambiguous DNA characters in input",
     "output_type": "error",
     "traceback": [
      "\u001b[0;31m---------------------------------------------------------------------------\u001b[0m",
      "\u001b[0;31mValueError\u001b[0m                                Traceback (most recent call last)",
      "\u001b[0;32m<ipython-input-79-0d312fc96cf9>\u001b[0m in \u001b[0;36m<module>\u001b[0;34m()\u001b[0m\n\u001b[0;32m----> 1\u001b[0;31m \u001b[0mgen_freq_array_index\u001b[0m\u001b[0;34m(\u001b[0m\u001b[0;34m'GT'\u001b[0m\u001b[0;34m)\u001b[0m\u001b[0;34m\u001b[0m\u001b[0m\n\u001b[0m",
      "\u001b[0;32m<ipython-input-78-bc3c9f09da53>\u001b[0m in \u001b[0;36mgen_freq_array_index\u001b[0;34m(input_string)\u001b[0m\n\u001b[1;32m      7\u001b[0m     \u001b[0marray_string\u001b[0m \u001b[0;34m=\u001b[0m \u001b[0minput_string\u001b[0m\u001b[0;34m.\u001b[0m\u001b[0mupper\u001b[0m\u001b[0;34m(\u001b[0m\u001b[0;34m)\u001b[0m\u001b[0;34m\u001b[0m\u001b[0m\n\u001b[1;32m      8\u001b[0m     \u001b[0;32mif\u001b[0m \u001b[0;32mnot\u001b[0m \u001b[0mset\u001b[0m\u001b[0;34m(\u001b[0m\u001b[0marray_string\u001b[0m\u001b[0;34m)\u001b[0m \u001b[0;34m-\u001b[0m \u001b[0maccepted_chars\u001b[0m\u001b[0;34m:\u001b[0m\u001b[0;34m\u001b[0m\u001b[0m\n\u001b[0;32m----> 9\u001b[0;31m         \u001b[0;32mraise\u001b[0m \u001b[0mValueError\u001b[0m\u001b[0;34m(\u001b[0m\u001b[0;34m\"expect IUPAC non-ambiguous DNA characters in input\"\u001b[0m\u001b[0;34m)\u001b[0m\u001b[0;34m\u001b[0m\u001b[0m\n\u001b[0m\u001b[1;32m     10\u001b[0m     \u001b[0miter_object\u001b[0m \u001b[0;34m=\u001b[0m \u001b[0mitertools\u001b[0m\u001b[0;34m.\u001b[0m\u001b[0mproduct\u001b[0m\u001b[0;34m(\u001b[0m\u001b[0mlist\u001b[0m\u001b[0;34m(\u001b[0m\u001b[0maccepted_chars\u001b[0m\u001b[0;34m)\u001b[0m\u001b[0;34m,\u001b[0m \u001b[0mrepeat\u001b[0m\u001b[0;34m=\u001b[0m\u001b[0mlength\u001b[0m\u001b[0;34m)\u001b[0m\u001b[0;34m\u001b[0m\u001b[0m\n\u001b[1;32m     11\u001b[0m     \u001b[0mstring_list\u001b[0m \u001b[0;34m=\u001b[0m \u001b[0;34m[\u001b[0m\u001b[0;34m''\u001b[0m\u001b[0;34m.\u001b[0m\u001b[0mjoin\u001b[0m\u001b[0;34m(\u001b[0m\u001b[0mitem\u001b[0m\u001b[0;34m)\u001b[0m \u001b[0;32mfor\u001b[0m \u001b[0mitem\u001b[0m \u001b[0;32min\u001b[0m \u001b[0miter_object\u001b[0m\u001b[0;34m]\u001b[0m\u001b[0;34m\u001b[0m\u001b[0m\n",
      "\u001b[0;31mValueError\u001b[0m: expect IUPAC non-ambiguous DNA characters in input"
     ]
    }
   ],
   "source": [
    "gen_freq_array_index('GT')"
   ]
  },
  {
   "cell_type": "code",
   "execution_count": 80,
   "metadata": {},
   "outputs": [
    {
     "data": {
      "text/plain": [
       "True"
      ]
     },
     "execution_count": 80,
     "metadata": {},
     "output_type": "execute_result"
    }
   ],
   "source": [
    "set('GT').issubset(set('ATCG'))"
   ]
  },
  {
   "cell_type": "code",
   "execution_count": 81,
   "metadata": {},
   "outputs": [
    {
     "data": {
      "text/plain": [
       "'GT'"
      ]
     },
     "execution_count": 81,
     "metadata": {},
     "output_type": "execute_result"
    }
   ],
   "source": [
    "'gt'.upper()"
   ]
  },
  {
   "cell_type": "code",
   "execution_count": 82,
   "metadata": {
    "collapsed": true
   },
   "outputs": [],
   "source": [
    "new = 'gt'.upper()"
   ]
  },
  {
   "cell_type": "code",
   "execution_count": 83,
   "metadata": {},
   "outputs": [
    {
     "data": {
      "text/plain": [
       "'GT'"
      ]
     },
     "execution_count": 83,
     "metadata": {},
     "output_type": "execute_result"
    }
   ],
   "source": [
    "new"
   ]
  },
  {
   "cell_type": "code",
   "execution_count": 84,
   "metadata": {
    "collapsed": true
   },
   "outputs": [],
   "source": [
    "def gen_freq_array_index(input_string):\n",
    "    \"\"\"Generate a frequency array index from an input string\n",
    "    \n",
    "    Assume IUPAC unambiguous characters. Use cast to upper\"\"\"\n",
    "    length = len(input_string)\n",
    "    accepted_chars = set('ATCG')\n",
    "    array_string = input_string.upper()\n",
    "    if not set(array_string).issubset(accepted_chars):\n",
    "        raise ValueError(\"expect IUPAC non-ambiguous DNA characters in input\")\n",
    "    iter_object = itertools.product(list(accepted_chars), repeat=length)\n",
    "    string_list = [''.join(item) for item in iter_object]\n",
    "    string_dict = {\n",
    "        item: i for i, item in enumerate(string_list)\n",
    "    }\n",
    "    return string_dict\n",
    "    "
   ]
  },
  {
   "cell_type": "code",
   "execution_count": 85,
   "metadata": {},
   "outputs": [
    {
     "data": {
      "text/plain": [
       "{'AA': 0,\n",
       " 'AC': 1,\n",
       " 'AG': 3,\n",
       " 'AT': 2,\n",
       " 'CA': 4,\n",
       " 'CC': 5,\n",
       " 'CG': 7,\n",
       " 'CT': 6,\n",
       " 'GA': 12,\n",
       " 'GC': 13,\n",
       " 'GG': 15,\n",
       " 'GT': 14,\n",
       " 'TA': 8,\n",
       " 'TC': 9,\n",
       " 'TG': 11,\n",
       " 'TT': 10}"
      ]
     },
     "execution_count": 85,
     "metadata": {},
     "output_type": "execute_result"
    }
   ],
   "source": [
    "gen_freq_array_index('GT')"
   ]
  },
  {
   "cell_type": "code",
   "execution_count": 86,
   "metadata": {
    "collapsed": true
   },
   "outputs": [],
   "source": [
    "def gen_freq_array_index(input_string):\n",
    "    \"\"\"Generate a frequency array index from an input string\n",
    "    \n",
    "    Assume IUPAC unambiguous characters. Use cast to upper\"\"\"\n",
    "    length = len(input_string)\n",
    "    accepted_chars = set('ACGT')\n",
    "    array_string = input_string.upper()\n",
    "    if not set(array_string).issubset(accepted_chars):\n",
    "        raise ValueError(\"expect IUPAC non-ambiguous DNA characters in input\")\n",
    "    iter_object = itertools.product(list(accepted_chars), repeat=length)\n",
    "    string_list = [''.join(item) for item in iter_object]\n",
    "    string_dict = {\n",
    "        item: i for i, item in enumerate(string_list)\n",
    "    }\n",
    "    return string_dict\n",
    "    "
   ]
  },
  {
   "cell_type": "code",
   "execution_count": 87,
   "metadata": {},
   "outputs": [
    {
     "data": {
      "text/plain": [
       "{'AA': 0,\n",
       " 'AC': 1,\n",
       " 'AG': 3,\n",
       " 'AT': 2,\n",
       " 'CA': 4,\n",
       " 'CC': 5,\n",
       " 'CG': 7,\n",
       " 'CT': 6,\n",
       " 'GA': 12,\n",
       " 'GC': 13,\n",
       " 'GG': 15,\n",
       " 'GT': 14,\n",
       " 'TA': 8,\n",
       " 'TC': 9,\n",
       " 'TG': 11,\n",
       " 'TT': 10}"
      ]
     },
     "execution_count": 87,
     "metadata": {},
     "output_type": "execute_result"
    }
   ],
   "source": [
    "gen_freq_array_index('GT')"
   ]
  },
  {
   "cell_type": "code",
   "execution_count": 89,
   "metadata": {},
   "outputs": [
    {
     "data": {
      "text/plain": [
       "['A', 'C', 'T', 'G']"
      ]
     },
     "execution_count": 89,
     "metadata": {},
     "output_type": "execute_result"
    }
   ],
   "source": [
    "list(set('ACGT'))"
   ]
  },
  {
   "cell_type": "code",
   "execution_count": 90,
   "metadata": {},
   "outputs": [
    {
     "ename": "NameError",
     "evalue": "name 'sort' is not defined",
     "output_type": "error",
     "traceback": [
      "\u001b[0;31m---------------------------------------------------------------------------\u001b[0m",
      "\u001b[0;31mNameError\u001b[0m                                 Traceback (most recent call last)",
      "\u001b[0;32m<ipython-input-90-2a60c3671b91>\u001b[0m in \u001b[0;36m<module>\u001b[0;34m()\u001b[0m\n\u001b[0;32m----> 1\u001b[0;31m \u001b[0msort\u001b[0m\u001b[0;34m(\u001b[0m\u001b[0mlist\u001b[0m\u001b[0;34m(\u001b[0m\u001b[0mset\u001b[0m\u001b[0;34m(\u001b[0m\u001b[0;34m'ACGT'\u001b[0m\u001b[0;34m)\u001b[0m\u001b[0;34m)\u001b[0m\u001b[0;34m)\u001b[0m\u001b[0;34m\u001b[0m\u001b[0m\n\u001b[0m",
      "\u001b[0;31mNameError\u001b[0m: name 'sort' is not defined"
     ]
    }
   ],
   "source": [
    "sort(list(set('ACGT')))"
   ]
  },
  {
   "cell_type": "code",
   "execution_count": 91,
   "metadata": {
    "collapsed": true
   },
   "outputs": [],
   "source": [
    "def gen_freq_array_index(input_string):\n",
    "    \"\"\"Generate a frequency array index from an input string\n",
    "    \n",
    "    Assume IUPAC unambiguous characters. Use cast to upper\"\"\"\n",
    "    length = len(input_string)\n",
    "    sorted_dna_char = 'ACGT'\n",
    "    accepted_chars = set(sorted_dna_char)\n",
    "    array_string = input_string.upper()\n",
    "    if not set(array_string).issubset(accepted_chars):\n",
    "        raise ValueError(\"expect IUPAC non-ambiguous DNA characters in input\")\n",
    "    iter_object = itertools.product(list(sorted_dna_char), repeat=length)\n",
    "    string_list = [''.join(item) for item in iter_object]\n",
    "    string_dict = {\n",
    "        item: i for i, item in enumerate(string_list)\n",
    "    }\n",
    "    return string_dict\n",
    "    "
   ]
  },
  {
   "cell_type": "code",
   "execution_count": 92,
   "metadata": {},
   "outputs": [
    {
     "data": {
      "text/plain": [
       "{'AA': 0,\n",
       " 'AC': 1,\n",
       " 'AG': 2,\n",
       " 'AT': 3,\n",
       " 'CA': 4,\n",
       " 'CC': 5,\n",
       " 'CG': 6,\n",
       " 'CT': 7,\n",
       " 'GA': 8,\n",
       " 'GC': 9,\n",
       " 'GG': 10,\n",
       " 'GT': 11,\n",
       " 'TA': 12,\n",
       " 'TC': 13,\n",
       " 'TG': 14,\n",
       " 'TT': 15}"
      ]
     },
     "execution_count": 92,
     "metadata": {},
     "output_type": "execute_result"
    }
   ],
   "source": [
    "gen_freq_array_index('GT')"
   ]
  },
  {
   "cell_type": "code",
   "execution_count": 93,
   "metadata": {
    "collapsed": true
   },
   "outputs": [],
   "source": [
    "def pattern_to_number(input_string):\n",
    "    \"\"\"give the index number of the string from gen_array\n",
    "    \n",
    "    Call gen_freq_array_index with string and then find value from dictionary\"\"\"\n",
    "    array_dict = gen_freq_array_index(input_string)\n",
    "    output_num = array_dict[input_string]\n",
    "    return output_num"
   ]
  },
  {
   "cell_type": "code",
   "execution_count": 94,
   "metadata": {},
   "outputs": [
    {
     "data": {
      "text/plain": [
       "11"
      ]
     },
     "execution_count": 94,
     "metadata": {},
     "output_type": "execute_result"
    }
   ],
   "source": [
    "pattern_to_number('GT')"
   ]
  },
  {
   "cell_type": "code",
   "execution_count": 95,
   "metadata": {},
   "outputs": [
    {
     "data": {
      "text/plain": [
       "912"
      ]
     },
     "execution_count": 95,
     "metadata": {},
     "output_type": "execute_result"
    }
   ],
   "source": [
    "pattern_to_number('ATGCAA')"
   ]
  },
  {
   "cell_type": "markdown",
   "metadata": {},
   "source": [
    "## Looking at how to implement `number_to_pattern` may refactor gen index array"
   ]
  },
  {
   "cell_type": "code",
   "execution_count": 96,
   "metadata": {
    "collapsed": true
   },
   "outputs": [],
   "source": [
    "def gen_freq_array_index_from_number(input_int):\n",
    "    \"\"\"Generate a frequency array index from an input integer\n",
    "    \n",
    "    Assume only uppercase IUPAC unambiguous characters.\"\"\"\n",
    "    sorted_dna_char = 'ACGT'\n",
    "    iter_object = itertools.product(list(sorted_dna_char), repeat=input_int)\n",
    "    string_list = [''.join(item) for item in iter_object]\n",
    "    string_dict = {\n",
    "        item: i for i, item in enumerate(string_list)\n",
    "    }\n",
    "    return string_dict\n",
    "    "
   ]
  },
  {
   "cell_type": "code",
   "execution_count": 97,
   "metadata": {},
   "outputs": [
    {
     "data": {
      "text/plain": [
       "{'AA': 0,\n",
       " 'AC': 1,\n",
       " 'AG': 2,\n",
       " 'AT': 3,\n",
       " 'CA': 4,\n",
       " 'CC': 5,\n",
       " 'CG': 6,\n",
       " 'CT': 7,\n",
       " 'GA': 8,\n",
       " 'GC': 9,\n",
       " 'GG': 10,\n",
       " 'GT': 11,\n",
       " 'TA': 12,\n",
       " 'TC': 13,\n",
       " 'TG': 14,\n",
       " 'TT': 15}"
      ]
     },
     "execution_count": 97,
     "metadata": {},
     "output_type": "execute_result"
    }
   ],
   "source": [
    "gen_freq_array_index_from_number(2)"
   ]
  },
  {
   "cell_type": "code",
   "execution_count": 103,
   "metadata": {
    "collapsed": true
   },
   "outputs": [],
   "source": [
    "def number_to_pattern(input_index, input_length):\n",
    "    \"\"\"see https://stepik.org/lesson/2994/step/3\"\"\"\n",
    "    index_array_dict = gen_freq_array_index_from_number(input_length)\n",
    "    output_index = [\n",
    "       key for key, value in index_array_dict.iteritems() if value == input_index \n",
    "    ][0]\n",
    "    return output_index"
   ]
  },
  {
   "cell_type": "code",
   "execution_count": 104,
   "metadata": {},
   "outputs": [
    {
     "data": {
      "text/plain": [
       "'GT'"
      ]
     },
     "execution_count": 104,
     "metadata": {},
     "output_type": "execute_result"
    }
   ],
   "source": [
    "number_to_pattern(11,2)"
   ]
  },
  {
   "cell_type": "code",
   "execution_count": 106,
   "metadata": {},
   "outputs": [
    {
     "data": {
      "text/plain": [
       "'ACCCATTC'"
      ]
     },
     "execution_count": 106,
     "metadata": {},
     "output_type": "execute_result"
    }
   ],
   "source": [
    "number_to_pattern(5437, 8)"
   ]
  },
  {
   "cell_type": "code",
   "execution_count": 118,
   "metadata": {
    "collapsed": true
   },
   "outputs": [],
   "source": [
    "def computing_frequencies(input_string, k):\n",
    "    \"\"\"see https://stepik.org/lesson/2994/step/5\"\"\"\n",
    "    freq_array_index_to_kmer = {\n",
    "        i : 0 for i in range(4^k)\n",
    "    }\n",
    "    for i in range(len(input_string)):\n",
    "        pattern = input_string[i: i+k]\n",
    "        j = number_to_pattern(pattern)\n",
    "        freq_array_index_to_kmer[j] += 1\n",
    "    return ' '.join(freq_array_index_to_kmer.values())"
   ]
  },
  {
   "cell_type": "code",
   "execution_count": 119,
   "metadata": {},
   "outputs": [
    {
     "ename": "TypeError",
     "evalue": "number_to_pattern() takes exactly 2 arguments (1 given)",
     "output_type": "error",
     "traceback": [
      "\u001b[0;31m---------------------------------------------------------------------------\u001b[0m",
      "\u001b[0;31mTypeError\u001b[0m                                 Traceback (most recent call last)",
      "\u001b[0;32m<ipython-input-119-d599ceccbe59>\u001b[0m in \u001b[0;36m<module>\u001b[0;34m()\u001b[0m\n\u001b[0;32m----> 1\u001b[0;31m \u001b[0mcomputing_frequencies\u001b[0m\u001b[0;34m(\u001b[0m\u001b[0;34m'ACGCGGCTCTGAAA'\u001b[0m\u001b[0;34m,\u001b[0m \u001b[0;36m2\u001b[0m\u001b[0;34m)\u001b[0m\u001b[0;34m\u001b[0m\u001b[0m\n\u001b[0m",
      "\u001b[0;32m<ipython-input-118-a1157ac20b44>\u001b[0m in \u001b[0;36mcomputing_frequencies\u001b[0;34m(input_string, k)\u001b[0m\n\u001b[1;32m      6\u001b[0m     \u001b[0;32mfor\u001b[0m \u001b[0mi\u001b[0m \u001b[0;32min\u001b[0m \u001b[0mrange\u001b[0m\u001b[0;34m(\u001b[0m\u001b[0mlen\u001b[0m\u001b[0;34m(\u001b[0m\u001b[0minput_string\u001b[0m\u001b[0;34m)\u001b[0m\u001b[0;34m)\u001b[0m\u001b[0;34m:\u001b[0m\u001b[0;34m\u001b[0m\u001b[0m\n\u001b[1;32m      7\u001b[0m         \u001b[0mpattern\u001b[0m \u001b[0;34m=\u001b[0m \u001b[0minput_string\u001b[0m\u001b[0;34m[\u001b[0m\u001b[0mi\u001b[0m\u001b[0;34m:\u001b[0m \u001b[0mi\u001b[0m\u001b[0;34m+\u001b[0m\u001b[0mk\u001b[0m\u001b[0;34m]\u001b[0m\u001b[0;34m\u001b[0m\u001b[0m\n\u001b[0;32m----> 8\u001b[0;31m         \u001b[0mj\u001b[0m \u001b[0;34m=\u001b[0m \u001b[0mnumber_to_pattern\u001b[0m\u001b[0;34m(\u001b[0m\u001b[0mpattern\u001b[0m\u001b[0;34m)\u001b[0m\u001b[0;34m\u001b[0m\u001b[0m\n\u001b[0m\u001b[1;32m      9\u001b[0m         \u001b[0mfreq_array_index_to_kmer\u001b[0m\u001b[0;34m[\u001b[0m\u001b[0mj\u001b[0m\u001b[0;34m]\u001b[0m \u001b[0;34m+=\u001b[0m \u001b[0;36m1\u001b[0m\u001b[0;34m\u001b[0m\u001b[0m\n\u001b[1;32m     10\u001b[0m     \u001b[0;32mreturn\u001b[0m \u001b[0;34m' '\u001b[0m\u001b[0;34m.\u001b[0m\u001b[0mjoin\u001b[0m\u001b[0;34m(\u001b[0m\u001b[0mfreq_array_index_to_kmer\u001b[0m\u001b[0;34m.\u001b[0m\u001b[0mvalues\u001b[0m\u001b[0;34m(\u001b[0m\u001b[0;34m)\u001b[0m\u001b[0;34m)\u001b[0m\u001b[0;34m\u001b[0m\u001b[0m\n",
      "\u001b[0;31mTypeError\u001b[0m: number_to_pattern() takes exactly 2 arguments (1 given)"
     ]
    }
   ],
   "source": [
    "computing_frequencies('ACGCGGCTCTGAAA', 2)"
   ]
  },
  {
   "cell_type": "code",
   "execution_count": 120,
   "metadata": {
    "collapsed": true
   },
   "outputs": [],
   "source": [
    "\n",
    "def computing_frequencies(input_string, k):\n",
    "    \"\"\"see https://stepik.org/lesson/2994/step/5\"\"\"\n",
    "    freq_array_index_to_kmer = {\n",
    "        i : 0 for i in range(4^k)\n",
    "    }\n",
    "    for i in range(len(input_string)):\n",
    "        pattern = input_string[i: i+k]\n",
    "        j = pattern_to_number(pattern)\n",
    "        freq_array_index_to_kmer[j] += 1\n",
    "    return ' '.join(freq_array_index_to_kmer.values())"
   ]
  },
  {
   "cell_type": "code",
   "execution_count": 121,
   "metadata": {},
   "outputs": [
    {
     "ename": "KeyError",
     "evalue": "6",
     "output_type": "error",
     "traceback": [
      "\u001b[0;31m---------------------------------------------------------------------------\u001b[0m",
      "\u001b[0;31mKeyError\u001b[0m                                  Traceback (most recent call last)",
      "\u001b[0;32m<ipython-input-121-d599ceccbe59>\u001b[0m in \u001b[0;36m<module>\u001b[0;34m()\u001b[0m\n\u001b[0;32m----> 1\u001b[0;31m \u001b[0mcomputing_frequencies\u001b[0m\u001b[0;34m(\u001b[0m\u001b[0;34m'ACGCGGCTCTGAAA'\u001b[0m\u001b[0;34m,\u001b[0m \u001b[0;36m2\u001b[0m\u001b[0;34m)\u001b[0m\u001b[0;34m\u001b[0m\u001b[0m\n\u001b[0m",
      "\u001b[0;32m<ipython-input-120-d75f5d16d56a>\u001b[0m in \u001b[0;36mcomputing_frequencies\u001b[0;34m(input_string, k)\u001b[0m\n\u001b[1;32m      8\u001b[0m         \u001b[0mpattern\u001b[0m \u001b[0;34m=\u001b[0m \u001b[0minput_string\u001b[0m\u001b[0;34m[\u001b[0m\u001b[0mi\u001b[0m\u001b[0;34m:\u001b[0m \u001b[0mi\u001b[0m\u001b[0;34m+\u001b[0m\u001b[0mk\u001b[0m\u001b[0;34m]\u001b[0m\u001b[0;34m\u001b[0m\u001b[0m\n\u001b[1;32m      9\u001b[0m         \u001b[0mj\u001b[0m \u001b[0;34m=\u001b[0m \u001b[0mpattern_to_number\u001b[0m\u001b[0;34m(\u001b[0m\u001b[0mpattern\u001b[0m\u001b[0;34m)\u001b[0m\u001b[0;34m\u001b[0m\u001b[0m\n\u001b[0;32m---> 10\u001b[0;31m         \u001b[0mfreq_array_index_to_kmer\u001b[0m\u001b[0;34m[\u001b[0m\u001b[0mj\u001b[0m\u001b[0;34m]\u001b[0m \u001b[0;34m+=\u001b[0m \u001b[0;36m1\u001b[0m\u001b[0;34m\u001b[0m\u001b[0m\n\u001b[0m\u001b[1;32m     11\u001b[0m     \u001b[0;32mreturn\u001b[0m \u001b[0;34m' '\u001b[0m\u001b[0;34m.\u001b[0m\u001b[0mjoin\u001b[0m\u001b[0;34m(\u001b[0m\u001b[0mfreq_array_index_to_kmer\u001b[0m\u001b[0;34m.\u001b[0m\u001b[0mvalues\u001b[0m\u001b[0;34m(\u001b[0m\u001b[0;34m)\u001b[0m\u001b[0;34m)\u001b[0m\u001b[0;34m\u001b[0m\u001b[0m\n",
      "\u001b[0;31mKeyError\u001b[0m: 6"
     ]
    }
   ],
   "source": [
    "computing_frequencies('ACGCGGCTCTGAAA', 2)"
   ]
  },
  {
   "cell_type": "code",
   "execution_count": 122,
   "metadata": {
    "collapsed": true
   },
   "outputs": [],
   "source": [
    "freq_array_index_to_kmer = {\n",
    "        i : 0 for i in range(4^2)\n",
    "    }"
   ]
  },
  {
   "cell_type": "code",
   "execution_count": 123,
   "metadata": {},
   "outputs": [
    {
     "data": {
      "text/plain": [
       "{0: 0, 1: 0, 2: 0, 3: 0, 4: 0, 5: 0}"
      ]
     },
     "execution_count": 123,
     "metadata": {},
     "output_type": "execute_result"
    }
   ],
   "source": [
    "freq_array_index_to_kmer"
   ]
  },
  {
   "cell_type": "code",
   "execution_count": 124,
   "metadata": {},
   "outputs": [
    {
     "data": {
      "text/plain": [
       "6"
      ]
     },
     "execution_count": 124,
     "metadata": {},
     "output_type": "execute_result"
    }
   ],
   "source": [
    "4^2\n"
   ]
  },
  {
   "cell_type": "code",
   "execution_count": 125,
   "metadata": {
    "collapsed": true
   },
   "outputs": [],
   "source": [
    "import math"
   ]
  },
  {
   "cell_type": "code",
   "execution_count": 126,
   "metadata": {},
   "outputs": [
    {
     "data": {
      "text/plain": [
       "16.0"
      ]
     },
     "execution_count": 126,
     "metadata": {},
     "output_type": "execute_result"
    }
   ],
   "source": [
    "math.pow(4,2)"
   ]
  },
  {
   "cell_type": "code",
   "execution_count": 127,
   "metadata": {},
   "outputs": [
    {
     "data": {
      "text/plain": [
       "16"
      ]
     },
     "execution_count": 127,
     "metadata": {},
     "output_type": "execute_result"
    }
   ],
   "source": [
    "int(math.pow(4,2))"
   ]
  },
  {
   "cell_type": "code",
   "execution_count": 128,
   "metadata": {
    "collapsed": true
   },
   "outputs": [],
   "source": [
    "def computing_frequencies(input_string, k):\n",
    "    \"\"\"see https://stepik.org/lesson/2994/step/5\"\"\"\n",
    "    index_length = int(math.pow(4,2))\n",
    "    freq_array_index_to_kmer = {\n",
    "        i : 0 for i in range(index_length)\n",
    "    }\n",
    "    for i in range(len(input_string)):\n",
    "        pattern = input_string[i: i+k]\n",
    "        j = pattern_to_number(pattern)\n",
    "        freq_array_index_to_kmer[j] += 1\n",
    "    return ' '.join(freq_array_index_to_kmer.values())"
   ]
  },
  {
   "cell_type": "code",
   "execution_count": 129,
   "metadata": {},
   "outputs": [
    {
     "ename": "TypeError",
     "evalue": "sequence item 0: expected string, int found",
     "output_type": "error",
     "traceback": [
      "\u001b[0;31m---------------------------------------------------------------------------\u001b[0m",
      "\u001b[0;31mTypeError\u001b[0m                                 Traceback (most recent call last)",
      "\u001b[0;32m<ipython-input-129-d599ceccbe59>\u001b[0m in \u001b[0;36m<module>\u001b[0;34m()\u001b[0m\n\u001b[0;32m----> 1\u001b[0;31m \u001b[0mcomputing_frequencies\u001b[0m\u001b[0;34m(\u001b[0m\u001b[0;34m'ACGCGGCTCTGAAA'\u001b[0m\u001b[0;34m,\u001b[0m \u001b[0;36m2\u001b[0m\u001b[0;34m)\u001b[0m\u001b[0;34m\u001b[0m\u001b[0m\n\u001b[0m",
      "\u001b[0;32m<ipython-input-128-cf4d059edc09>\u001b[0m in \u001b[0;36mcomputing_frequencies\u001b[0;34m(input_string, k)\u001b[0m\n\u001b[1;32m      9\u001b[0m         \u001b[0mj\u001b[0m \u001b[0;34m=\u001b[0m \u001b[0mpattern_to_number\u001b[0m\u001b[0;34m(\u001b[0m\u001b[0mpattern\u001b[0m\u001b[0;34m)\u001b[0m\u001b[0;34m\u001b[0m\u001b[0m\n\u001b[1;32m     10\u001b[0m         \u001b[0mfreq_array_index_to_kmer\u001b[0m\u001b[0;34m[\u001b[0m\u001b[0mj\u001b[0m\u001b[0;34m]\u001b[0m \u001b[0;34m+=\u001b[0m \u001b[0;36m1\u001b[0m\u001b[0;34m\u001b[0m\u001b[0m\n\u001b[0;32m---> 11\u001b[0;31m     \u001b[0;32mreturn\u001b[0m \u001b[0;34m' '\u001b[0m\u001b[0;34m.\u001b[0m\u001b[0mjoin\u001b[0m\u001b[0;34m(\u001b[0m\u001b[0mfreq_array_index_to_kmer\u001b[0m\u001b[0;34m.\u001b[0m\u001b[0mvalues\u001b[0m\u001b[0;34m(\u001b[0m\u001b[0;34m)\u001b[0m\u001b[0;34m)\u001b[0m\u001b[0;34m\u001b[0m\u001b[0m\n\u001b[0m",
      "\u001b[0;31mTypeError\u001b[0m: sequence item 0: expected string, int found"
     ]
    }
   ],
   "source": [
    "computing_frequencies('ACGCGGCTCTGAAA', 2)"
   ]
  },
  {
   "cell_type": "code",
   "execution_count": 130,
   "metadata": {
    "collapsed": true
   },
   "outputs": [],
   "source": [
    "def computing_frequencies(input_string, k):\n",
    "    \"\"\"see https://stepik.org/lesson/2994/step/5\"\"\"\n",
    "    index_length = int(math.pow(4,2))\n",
    "    freq_array_index_to_kmer = {\n",
    "        i : 0 for i in range(index_length)\n",
    "    }\n",
    "    for i in range(len(input_string)):\n",
    "        pattern = input_string[i: i+k]\n",
    "        j = pattern_to_number(pattern)\n",
    "        freq_array_index_to_kmer[j] += 1\n",
    "    return freq_array_index_to_kmer.values()"
   ]
  },
  {
   "cell_type": "code",
   "execution_count": 131,
   "metadata": {},
   "outputs": [
    {
     "data": {
      "text/plain": [
       "[3, 1, 0, 0, 0, 0, 2, 2, 1, 2, 1, 0, 0, 1, 1, 0]"
      ]
     },
     "execution_count": 131,
     "metadata": {},
     "output_type": "execute_result"
    }
   ],
   "source": [
    "computing_frequencies('ACGCGGCTCTGAAA', 2)"
   ]
  },
  {
   "cell_type": "code",
   "execution_count": 140,
   "metadata": {
    "collapsed": true
   },
   "outputs": [],
   "source": [
    "freq_array_index_to_kmer = {\n",
    "        i : 0 for i in range(16)\n",
    "    }"
   ]
  },
  {
   "cell_type": "code",
   "execution_count": 141,
   "metadata": {},
   "outputs": [
    {
     "data": {
      "text/plain": [
       "{0: 0,\n",
       " 1: 0,\n",
       " 2: 0,\n",
       " 3: 0,\n",
       " 4: 0,\n",
       " 5: 0,\n",
       " 6: 0,\n",
       " 7: 0,\n",
       " 8: 0,\n",
       " 9: 0,\n",
       " 10: 0,\n",
       " 11: 0,\n",
       " 12: 0,\n",
       " 13: 0,\n",
       " 14: 0,\n",
       " 15: 0}"
      ]
     },
     "execution_count": 141,
     "metadata": {},
     "output_type": "execute_result"
    }
   ],
   "source": [
    "freq_array_index_to_kmer"
   ]
  },
  {
   "cell_type": "code",
   "execution_count": 142,
   "metadata": {},
   "outputs": [
    {
     "data": {
      "text/plain": [
       "[2, 1, 0, 0, 0, 0, 2, 2, 1, 2, 1, 0, 0, 1, 1, 0]"
      ]
     },
     "execution_count": 142,
     "metadata": {},
     "output_type": "execute_result"
    }
   ],
   "source": [
    "for i in range(len('ACGCGGCTCTGAAA')-1):\n",
    "    pattern = 'ACGCGGCTCTGAAA'[i: i+2]\n",
    "    j = pattern_to_number(pattern)\n",
    "    freq_array_index_to_kmer[j] += 1\n",
    "freq_array_index_to_kmer.values()"
   ]
  },
  {
   "cell_type": "code",
   "execution_count": 143,
   "metadata": {
    "collapsed": true
   },
   "outputs": [],
   "source": [
    "def computing_frequencies(input_string, k):\n",
    "    \"\"\"see https://stepik.org/lesson/2994/step/5\"\"\"\n",
    "    index_length = int(math.pow(4,2))\n",
    "    freq_array_index_to_kmer = {\n",
    "        i : 0 for i in range(index_length)\n",
    "    }\n",
    "    for i in range(len(input_string) - 1):\n",
    "        pattern = input_string[i: i+k]\n",
    "        j = pattern_to_number(pattern)\n",
    "        freq_array_index_to_kmer[j] += 1\n",
    "    return freq_array_index_to_kmer.values()"
   ]
  },
  {
   "cell_type": "code",
   "execution_count": 144,
   "metadata": {},
   "outputs": [
    {
     "data": {
      "text/plain": [
       "[2, 1, 0, 0, 0, 0, 2, 2, 1, 2, 1, 0, 0, 1, 1, 0]"
      ]
     },
     "execution_count": 144,
     "metadata": {},
     "output_type": "execute_result"
    }
   ],
   "source": [
    "computing_frequencies('ACGCGGCTCTGAAA', 2)"
   ]
  },
  {
   "cell_type": "code",
   "execution_count": 145,
   "metadata": {},
   "outputs": [
    {
     "ename": "KeyError",
     "evalue": "3428",
     "output_type": "error",
     "traceback": [
      "\u001b[0;31m---------------------------------------------------------------------------\u001b[0m",
      "\u001b[0;31mKeyError\u001b[0m                                  Traceback (most recent call last)",
      "\u001b[0;32m<ipython-input-145-3910b3f3d841>\u001b[0m in \u001b[0;36m<module>\u001b[0;34m()\u001b[0m\n\u001b[0;32m----> 1\u001b[0;31m \u001b[0mcomputing_frequencies\u001b[0m\u001b[0;34m(\u001b[0m\u001b[0;34m'TCCGCATTGGTGCTACCCGGTCCCTCAACACGTGTGAAGTGGTGTGTCGGTTTCAACCCGCACCCCTCTGAGTGCATTTATCATAGGTCCAAAACCACCTTCCTCGATCTAGCGAGGGGCGCTATTGGTAGTACCATCAGAGTGACGCCGCTCGCAGCCTTAACCGATCAGTAGGCCGACGGTCGTTGCTTTTCAGCCTTGCTAGTCGCAGGTGAAGTATTGAGTGTAGTGATCATTGGGCCAGAGATGTGAGTAGGGCTCCTCTGGCCTTTGCTGACATGTGGAAAATTGGCTTGGCTAGCGACGGCGTGAGGTCTAGTACACTTTCATTGCCACGATGGTAGTATCGGATACTCTTTCTCAGTAATACAGTAATAACTATTGTTACTCTTTACTATAGCAGCCTTTCCCTAGAGAGTGAGTCTCTAAGAGAGTATCAGAGGCCTCGCAAGATCCTGGCTTAAAGCTATGTGTGGAGTACTCCCTGTTGTAAGGCACTCTCTGAAATCTCAATCCGACGGCCAACAAGCAGTGTTTCCATGGGCTGCTTACGTCGGGCAGAGGTGAAGATTATCTCGGTGGGGGCGGAGGCCCTAAGTTGGCACAGTTGGAGCAGGGACTGTTTCAAGACGGGATTCCAGCGGAGTCGCCAGTAATGGGTGCTCCGAAAACCTTGCACCACAGCTGGCACCAAGAGGACCCAGACTTACT'\u001b[0m\u001b[0;34m,\u001b[0m \u001b[0;36m6\u001b[0m\u001b[0;34m)\u001b[0m\u001b[0;34m\u001b[0m\u001b[0m\n\u001b[0m",
      "\u001b[0;32m<ipython-input-143-1afc3b0f6f42>\u001b[0m in \u001b[0;36mcomputing_frequencies\u001b[0;34m(input_string, k)\u001b[0m\n\u001b[1;32m      8\u001b[0m         \u001b[0mpattern\u001b[0m \u001b[0;34m=\u001b[0m \u001b[0minput_string\u001b[0m\u001b[0;34m[\u001b[0m\u001b[0mi\u001b[0m\u001b[0;34m:\u001b[0m \u001b[0mi\u001b[0m\u001b[0;34m+\u001b[0m\u001b[0mk\u001b[0m\u001b[0;34m]\u001b[0m\u001b[0;34m\u001b[0m\u001b[0m\n\u001b[1;32m      9\u001b[0m         \u001b[0mj\u001b[0m \u001b[0;34m=\u001b[0m \u001b[0mpattern_to_number\u001b[0m\u001b[0;34m(\u001b[0m\u001b[0mpattern\u001b[0m\u001b[0;34m)\u001b[0m\u001b[0;34m\u001b[0m\u001b[0m\n\u001b[0;32m---> 10\u001b[0;31m         \u001b[0mfreq_array_index_to_kmer\u001b[0m\u001b[0;34m[\u001b[0m\u001b[0mj\u001b[0m\u001b[0;34m]\u001b[0m \u001b[0;34m+=\u001b[0m \u001b[0;36m1\u001b[0m\u001b[0;34m\u001b[0m\u001b[0m\n\u001b[0m\u001b[1;32m     11\u001b[0m     \u001b[0;32mreturn\u001b[0m \u001b[0mfreq_array_index_to_kmer\u001b[0m\u001b[0;34m.\u001b[0m\u001b[0mvalues\u001b[0m\u001b[0;34m(\u001b[0m\u001b[0;34m)\u001b[0m\u001b[0;34m\u001b[0m\u001b[0m\n",
      "\u001b[0;31mKeyError\u001b[0m: 3428"
     ]
    }
   ],
   "source": [
    "computing_frequencies('TCCGCATTGGTGCTACCCGGTCCCTCAACACGTGTGAAGTGGTGTGTCGGTTTCAACCCGCACCCCTCTGAGTGCATTTATCATAGGTCCAAAACCACCTTCCTCGATCTAGCGAGGGGCGCTATTGGTAGTACCATCAGAGTGACGCCGCTCGCAGCCTTAACCGATCAGTAGGCCGACGGTCGTTGCTTTTCAGCCTTGCTAGTCGCAGGTGAAGTATTGAGTGTAGTGATCATTGGGCCAGAGATGTGAGTAGGGCTCCTCTGGCCTTTGCTGACATGTGGAAAATTGGCTTGGCTAGCGACGGCGTGAGGTCTAGTACACTTTCATTGCCACGATGGTAGTATCGGATACTCTTTCTCAGTAATACAGTAATAACTATTGTTACTCTTTACTATAGCAGCCTTTCCCTAGAGAGTGAGTCTCTAAGAGAGTATCAGAGGCCTCGCAAGATCCTGGCTTAAAGCTATGTGTGGAGTACTCCCTGTTGTAAGGCACTCTCTGAAATCTCAATCCGACGGCCAACAAGCAGTGTTTCCATGGGCTGCTTACGTCGGGCAGAGGTGAAGATTATCTCGGTGGGGGCGGAGGCCCTAAGTTGGCACAGTTGGAGCAGGGACTGTTTCAAGACGGGATTCCAGCGGAGTCGCCAGTAATGGGTGCTCCGAAAACCTTGCACCACAGCTGGCACCAAGAGGACCCAGACTTACT', 6)"
   ]
  },
  {
   "cell_type": "code",
   "execution_count": 146,
   "metadata": {
    "collapsed": true
   },
   "outputs": [],
   "source": [
    "def computing_frequencies(input_string, k):\n",
    "    \"\"\"see https://stepik.org/lesson/2994/step/5\"\"\"\n",
    "    index_length = int(math.pow(4,2))\n",
    "    freq_array_index_to_kmer = {\n",
    "        i : 0 for i in range(index_length)\n",
    "    }\n",
    "    for i in range(len(input_string)):\n",
    "        pattern = input_string[i: i+k]\n",
    "        j = pattern_to_number(pattern)\n",
    "        freq_array_index_to_kmer[j] += 1\n",
    "    return freq_array_index_to_kmer.values()"
   ]
  },
  {
   "cell_type": "code",
   "execution_count": 147,
   "metadata": {},
   "outputs": [
    {
     "ename": "KeyError",
     "evalue": "3428",
     "output_type": "error",
     "traceback": [
      "\u001b[0;31m---------------------------------------------------------------------------\u001b[0m",
      "\u001b[0;31mKeyError\u001b[0m                                  Traceback (most recent call last)",
      "\u001b[0;32m<ipython-input-147-3910b3f3d841>\u001b[0m in \u001b[0;36m<module>\u001b[0;34m()\u001b[0m\n\u001b[0;32m----> 1\u001b[0;31m \u001b[0mcomputing_frequencies\u001b[0m\u001b[0;34m(\u001b[0m\u001b[0;34m'TCCGCATTGGTGCTACCCGGTCCCTCAACACGTGTGAAGTGGTGTGTCGGTTTCAACCCGCACCCCTCTGAGTGCATTTATCATAGGTCCAAAACCACCTTCCTCGATCTAGCGAGGGGCGCTATTGGTAGTACCATCAGAGTGACGCCGCTCGCAGCCTTAACCGATCAGTAGGCCGACGGTCGTTGCTTTTCAGCCTTGCTAGTCGCAGGTGAAGTATTGAGTGTAGTGATCATTGGGCCAGAGATGTGAGTAGGGCTCCTCTGGCCTTTGCTGACATGTGGAAAATTGGCTTGGCTAGCGACGGCGTGAGGTCTAGTACACTTTCATTGCCACGATGGTAGTATCGGATACTCTTTCTCAGTAATACAGTAATAACTATTGTTACTCTTTACTATAGCAGCCTTTCCCTAGAGAGTGAGTCTCTAAGAGAGTATCAGAGGCCTCGCAAGATCCTGGCTTAAAGCTATGTGTGGAGTACTCCCTGTTGTAAGGCACTCTCTGAAATCTCAATCCGACGGCCAACAAGCAGTGTTTCCATGGGCTGCTTACGTCGGGCAGAGGTGAAGATTATCTCGGTGGGGGCGGAGGCCCTAAGTTGGCACAGTTGGAGCAGGGACTGTTTCAAGACGGGATTCCAGCGGAGTCGCCAGTAATGGGTGCTCCGAAAACCTTGCACCACAGCTGGCACCAAGAGGACCCAGACTTACT'\u001b[0m\u001b[0;34m,\u001b[0m \u001b[0;36m6\u001b[0m\u001b[0;34m)\u001b[0m\u001b[0;34m\u001b[0m\u001b[0m\n\u001b[0m",
      "\u001b[0;32m<ipython-input-146-9c762ea38ace>\u001b[0m in \u001b[0;36mcomputing_frequencies\u001b[0;34m(input_string, k)\u001b[0m\n\u001b[1;32m      8\u001b[0m         \u001b[0mpattern\u001b[0m \u001b[0;34m=\u001b[0m \u001b[0minput_string\u001b[0m\u001b[0;34m[\u001b[0m\u001b[0mi\u001b[0m\u001b[0;34m:\u001b[0m \u001b[0mi\u001b[0m\u001b[0;34m+\u001b[0m\u001b[0mk\u001b[0m\u001b[0;34m]\u001b[0m\u001b[0;34m\u001b[0m\u001b[0m\n\u001b[1;32m      9\u001b[0m         \u001b[0mj\u001b[0m \u001b[0;34m=\u001b[0m \u001b[0mpattern_to_number\u001b[0m\u001b[0;34m(\u001b[0m\u001b[0mpattern\u001b[0m\u001b[0;34m)\u001b[0m\u001b[0;34m\u001b[0m\u001b[0m\n\u001b[0;32m---> 10\u001b[0;31m         \u001b[0mfreq_array_index_to_kmer\u001b[0m\u001b[0;34m[\u001b[0m\u001b[0mj\u001b[0m\u001b[0;34m]\u001b[0m \u001b[0;34m+=\u001b[0m \u001b[0;36m1\u001b[0m\u001b[0;34m\u001b[0m\u001b[0m\n\u001b[0m\u001b[1;32m     11\u001b[0m     \u001b[0;32mreturn\u001b[0m \u001b[0mfreq_array_index_to_kmer\u001b[0m\u001b[0;34m.\u001b[0m\u001b[0mvalues\u001b[0m\u001b[0;34m(\u001b[0m\u001b[0;34m)\u001b[0m\u001b[0;34m\u001b[0m\u001b[0m\n",
      "\u001b[0;31mKeyError\u001b[0m: 3428"
     ]
    }
   ],
   "source": [
    "computing_frequencies('TCCGCATTGGTGCTACCCGGTCCCTCAACACGTGTGAAGTGGTGTGTCGGTTTCAACCCGCACCCCTCTGAGTGCATTTATCATAGGTCCAAAACCACCTTCCTCGATCTAGCGAGGGGCGCTATTGGTAGTACCATCAGAGTGACGCCGCTCGCAGCCTTAACCGATCAGTAGGCCGACGGTCGTTGCTTTTCAGCCTTGCTAGTCGCAGGTGAAGTATTGAGTGTAGTGATCATTGGGCCAGAGATGTGAGTAGGGCTCCTCTGGCCTTTGCTGACATGTGGAAAATTGGCTTGGCTAGCGACGGCGTGAGGTCTAGTACACTTTCATTGCCACGATGGTAGTATCGGATACTCTTTCTCAGTAATACAGTAATAACTATTGTTACTCTTTACTATAGCAGCCTTTCCCTAGAGAGTGAGTCTCTAAGAGAGTATCAGAGGCCTCGCAAGATCCTGGCTTAAAGCTATGTGTGGAGTACTCCCTGTTGTAAGGCACTCTCTGAAATCTCAATCCGACGGCCAACAAGCAGTGTTTCCATGGGCTGCTTACGTCGGGCAGAGGTGAAGATTATCTCGGTGGGGGCGGAGGCCCTAAGTTGGCACAGTTGGAGCAGGGACTGTTTCAAGACGGGATTCCAGCGGAGTCGCCAGTAATGGGTGCTCCGAAAACCTTGCACCACAGCTGGCACCAAGAGGACCCAGACTTACT', 6)"
   ]
  },
  {
   "cell_type": "code",
   "execution_count": 148,
   "metadata": {
    "collapsed": true
   },
   "outputs": [],
   "source": [
    "def computing_frequencies(input_string, k):\n",
    "    \"\"\"see https://stepik.org/lesson/2994/step/5\"\"\"\n",
    "    index_length = int(math.pow(4,k))\n",
    "    freq_array_index_to_kmer = {\n",
    "        i : 0 for i in range(index_length)\n",
    "    }\n",
    "    for i in range(len(input_string)):\n",
    "        pattern = input_string[i: i+k]\n",
    "        j = pattern_to_number(pattern)\n",
    "        freq_array_index_to_kmer[j] += 1\n",
    "    return freq_array_index_to_kmer.values()"
   ]
  },
  {
   "cell_type": "code",
   "execution_count": 150,
   "metadata": {
    "collapsed": true
   },
   "outputs": [],
   "source": [
    "output_string = computing_frequencies('TCCGCATTGGTGCTACCCGGTCCCTCAACACGTGTGAAGTGGTGTGTCGGTTTCAACCCGCACCCCTCTGAGTGCATTTATCATAGGTCCAAAACCACCTTCCTCGATCTAGCGAGGGGCGCTATTGGTAGTACCATCAGAGTGACGCCGCTCGCAGCCTTAACCGATCAGTAGGCCGACGGTCGTTGCTTTTCAGCCTTGCTAGTCGCAGGTGAAGTATTGAGTGTAGTGATCATTGGGCCAGAGATGTGAGTAGGGCTCCTCTGGCCTTTGCTGACATGTGGAAAATTGGCTTGGCTAGCGACGGCGTGAGGTCTAGTACACTTTCATTGCCACGATGGTAGTATCGGATACTCTTTCTCAGTAATACAGTAATAACTATTGTTACTCTTTACTATAGCAGCCTTTCCCTAGAGAGTGAGTCTCTAAGAGAGTATCAGAGGCCTCGCAAGATCCTGGCTTAAAGCTATGTGTGGAGTACTCCCTGTTGTAAGGCACTCTCTGAAATCTCAATCCGACGGCCAACAAGCAGTGTTTCCATGGGCTGCTTACGTCGGGCAGAGGTGAAGATTATCTCGGTGGGGGCGGAGGCCCTAAGTTGGCACAGTTGGAGCAGGGACTGTTTCAAGACGGGATTCCAGCGGAGTCGCCAGTAATGGGTGCTCCGAAAACCTTGCACCACAGCTGGCACCAAGAGGACCCAGACTTACT', 6)"
   ]
  },
  {
   "cell_type": "code",
   "execution_count": 152,
   "metadata": {
    "collapsed": true
   },
   "outputs": [],
   "source": [
    "with open('answer.txt', 'w') as f:\n",
    "    f.write(str(output_string))"
   ]
  },
  {
   "cell_type": "code",
   "execution_count": null,
   "metadata": {
    "collapsed": true
   },
   "outputs": [],
   "source": []
  }
 ],
 "metadata": {
  "kernelspec": {
   "display_name": "Python 2",
   "language": "python",
   "name": "python2"
  },
  "language_info": {
   "codemirror_mode": {
    "name": "ipython",
    "version": 2
   },
   "file_extension": ".py",
   "mimetype": "text/x-python",
   "name": "python",
   "nbconvert_exporter": "python",
   "pygments_lexer": "ipython2",
   "version": "2.7.6"
  }
 },
 "nbformat": 4,
 "nbformat_minor": 2
}
